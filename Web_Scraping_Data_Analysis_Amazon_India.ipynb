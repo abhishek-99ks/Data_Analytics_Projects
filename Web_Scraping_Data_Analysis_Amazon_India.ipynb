{
 "cells": [
  {
   "cell_type": "markdown",
   "source": [
    "# Web Scraping implementation on Amazon India website"
   ],
   "metadata": {}
  },
  {
   "cell_type": "markdown",
   "source": [
    "By - Abhishek Kumar Singh"
   ],
   "metadata": {}
  },
  {
   "cell_type": "markdown",
   "source": [
    "---\r\n",
    "\r\n",
    "This project is focussed on searching and extracting data of any item from <b>Amazon India's</b> ecommerce site - https://www.amazon.in/\r\n",
    "This project uses webscraping through Selenium and BeautifulSoup to provide the desired result. The project is included with explaination of every part of the code and at the very bottom you can find the final executable code.\r\n",
    "\r\n",
    "In this project I have displayed only 1 type of product and extracted details of only 4 attributes i.e., <b>Name</b>, <b>Price</b>, <b>Rating</b>, <b>Number of reviews</b>, <b>URL of product</b>. The code can be modified according to the use and website being scraped. At last the project will return a <b>.csv</b> file which can be used for analysis purpose on products or the site."
   ],
   "metadata": {
    "cell_id": "00000-92cd08cd-cdd2-4fd2-813a-28f3c1a22c13",
    "deepnote_cell_type": "markdown"
   }
  },
  {
   "cell_type": "markdown",
   "source": [
    "Initially we need to install BeautifulSoup and Selenium. Below are the mention versions and commands to install the versions that I have used.\n",
    "\n",
    "System - Windows 10, 64 bit\n",
    "<br>\n",
    "BeautifulSoup 4, bs4 : - ```pip install beautifulsoup4``` or ```python -m pip install beautifulsoup4```\n",
    "<br>\n",
    "Selenium 3.141.0 : - ```pip install selenium``` or ```python -m pip install selenium```"
   ],
   "metadata": {
    "cell_id": "00001-e6a599a3-a111-4985-be3a-fe1d9ff84728",
    "deepnote_cell_type": "markdown"
   }
  },
  {
   "cell_type": "markdown",
   "source": [
    "---\n",
    "<br>\n",
    "\n",
    "## Import neccessary packages"
   ],
   "metadata": {
    "cell_id": "00002-79f370a4-10cf-49a3-8053-236667180917",
    "deepnote_cell_type": "markdown"
   }
  },
  {
   "cell_type": "code",
   "execution_count": 1,
   "source": [
    "import csv\r\n",
    "import os\r\n",
    "from selenium import webdriver\r\n",
    "from bs4 import BeautifulSoup"
   ],
   "outputs": [],
   "metadata": {
    "cell_id": "00003-f1dc37e0-94fb-4ecc-bf9e-8a772b674915",
    "deepnote_cell_type": "code"
   }
  },
  {
   "cell_type": "markdown",
   "source": [
    "---\n",
    "<br>\n",
    "\n",
    "## Web driver"
   ],
   "metadata": {
    "cell_id": "00004-36c08336-d3a3-4b31-bf88-fff9a8ade37e",
    "deepnote_cell_type": "markdown"
   }
  },
  {
   "cell_type": "markdown",
   "source": [
    "Browser -> Microsoft Edge\n",
    "\n",
    "The code below will open the bowser and wit for you to enter the URL"
   ],
   "metadata": {
    "cell_id": "00005-b4ce09ff-8047-4ab1-948a-40789029cba4",
    "deepnote_cell_type": "markdown"
   }
  },
  {
   "cell_type": "code",
   "execution_count": 2,
   "source": [
    "driver = webdriver.Edge(executable_path=\"D:/Downloads/Edge Downloads/edgedriver_win64/msedgedriver.exe\")"
   ],
   "outputs": [],
   "metadata": {
    "cell_id": "00006-b82de447-fca2-45c4-b5a6-1cbf20a221c4",
    "deepnote_cell_type": "code"
   }
  },
  {
   "cell_type": "markdown",
   "source": [
    "For any other browser follow the below syntax: -\n",
    "<br>\n",
    "<code>driver = webdriver.BrowserName(executable_path=\"Path to the driver.exe file\")</code>\n",
    "\n",
    "For more info on browsers supported by selenium and how to use them, visit - \"https://www.selenium.dev/documentation/en/webdriver/driver_requirements/\""
   ],
   "metadata": {
    "cell_id": "00007-689cc8e4-8500-4fc5-98a5-5d72862a32aa",
    "deepnote_cell_type": "markdown"
   }
  },
  {
   "cell_type": "markdown",
   "source": [
    "---\n",
    "<br>\n",
    "\n",
    "## Enter URL of Amazon India\n",
    "\n",
    ".get() function takes takes URL as argument and opens the site"
   ],
   "metadata": {
    "cell_id": "00008-0b4329d9-8b61-45d4-b16a-47aaa7c9ed91",
    "deepnote_cell_type": "markdown"
   }
  },
  {
   "cell_type": "code",
   "execution_count": 3,
   "source": [
    "url = \"https://www.amazon.in/\"\r\n",
    "driver.get(url)"
   ],
   "outputs": [],
   "metadata": {
    "cell_id": "00009-e6c704f8-fcbd-4650-9ee2-4269c2b2dc04",
    "deepnote_cell_type": "code"
   }
  },
  {
   "cell_type": "markdown",
   "source": [
    "---\n",
    "<br>\n",
    "\n",
    "## Generate URL for searching\n",
    "\n",
    "We need to provide the name of item to be searched and combine it with the URL to be able to search.\n",
    "\n",
    "We'll use <b>search_term</b> variable to give the name of item"
   ],
   "metadata": {
    "cell_id": "00010-aadfdea8-8a8c-420a-aab9-14ddc3b55b84",
    "deepnote_cell_type": "markdown"
   }
  },
  {
   "cell_type": "code",
   "execution_count": 4,
   "source": [
    "def get_url(search_term):\r\n",
    "    \"\"\"Generate url with search term\"\"\"\r\n",
    "    template = \"https://www.amazon.in/s?k={}&ref=nb_sb_noss_2\"\r\n",
    "    search_term = search_term.replace(\" \", \"+\")\r\n",
    "    return template.format(search_term)"
   ],
   "outputs": [],
   "metadata": {
    "cell_id": "00011-c75da3f3-58c9-4999-9361-951b8b78cf3a",
    "deepnote_cell_type": "code"
   }
  },
  {
   "cell_type": "markdown",
   "source": [
    "We are replacing spaces with \"+\" inn search_term because in URLs there are no spaces and multiple word input is joined with this sign.\n",
    "\n",
    "We can see URL for search_term = \"laptop bags\""
   ],
   "metadata": {
    "cell_id": "00012-cba11148-09fd-4fb3-b891-00b4881f1b63",
    "deepnote_cell_type": "markdown"
   }
  },
  {
   "cell_type": "code",
   "execution_count": 5,
   "source": [
    "url = get_url('MSI laptops')\r\n",
    "print(url)"
   ],
   "outputs": [
    {
     "output_type": "stream",
     "name": "stdout",
     "text": [
      "https://www.amazon.in/s?k=MSI+laptops&ref=nb_sb_noss_2\n"
     ]
    }
   ],
   "metadata": {
    "cell_id": "00013-af7119cc-842f-4678-bec1-7ce17e258a2f",
    "deepnote_cell_type": "code"
   }
  },
  {
   "cell_type": "code",
   "execution_count": 6,
   "source": [
    "driver.get(url)"
   ],
   "outputs": [],
   "metadata": {
    "cell_id": "00014-a78b683f-411b-48d6-833e-71ffb52ff616",
    "deepnote_cell_type": "code"
   }
  },
  {
   "cell_type": "markdown",
   "source": [
    "---\n",
    "<br>\n",
    "\n",
    "## Extract Data\n",
    "\n",
    "Now, we need to extract all the HTML code that is present in <b>Page Source</b>. We can also see this by right clicking on the site and selecting <b>View page source</b> in the menu. But, copying all the code manually is not efficient so, we have used <b>Beautiful Soup</b> for this purpose"
   ],
   "metadata": {
    "cell_id": "00015-90644825-e79c-49a5-905b-5f211196e787",
    "deepnote_cell_type": "markdown"
   }
  },
  {
   "cell_type": "code",
   "execution_count": 7,
   "source": [
    "soup = BeautifulSoup(driver.page_source, 'html.parser')"
   ],
   "outputs": [],
   "metadata": {
    "cell_id": "00016-d53276c0-4ced-4bcb-8d07-f5bb84d17581",
    "deepnote_cell_type": "code"
   }
  },
  {
   "cell_type": "markdown",
   "source": [
    "We are interested only in the variety of results related to our search_term so after analysing the page source below tag is found to be suitable for extracting the relevant data.\n",
    "\n",
    "```<div data-component-type = \"s-search-result\">```\n",
    "\n",
    "We will extract all the data which has this tag."
   ],
   "metadata": {
    "cell_id": "00017-8dc0bd1d-598e-47dd-8e04-f7abdb202533",
    "deepnote_cell_type": "markdown"
   }
  },
  {
   "cell_type": "code",
   "execution_count": 8,
   "source": [
    "data_extracted = soup.find_all('div', {'data-component-type': 's-search-result'})"
   ],
   "outputs": [],
   "metadata": {
    "cell_id": "00018-1f90a5b8-a941-4842-bc31-703d05474c65",
    "deepnote_cell_type": "code"
   }
  },
  {
   "cell_type": "markdown",
   "source": [
    "The above code will extract the data from only first page. We'll use this to loop over pages and extract data from each page in the further code.\n",
    "\n",
    "The length of data_extracted is equal to the number of products on first page. But, this data may contain products which has not mentioned its price, rating or number of review. This may lead to an error which we'll counter later"
   ],
   "metadata": {
    "cell_id": "00019-fc7c31b2-3c8b-441f-ab7c-cd3b0e405ab4",
    "deepnote_cell_type": "markdown"
   }
  },
  {
   "cell_type": "code",
   "execution_count": 9,
   "source": [
    "len(data_extracted)"
   ],
   "outputs": [
    {
     "output_type": "execute_result",
     "data": {
      "text/plain": [
       "22"
      ]
     },
     "metadata": {},
     "execution_count": 9
    }
   ],
   "metadata": {
    "cell_id": "00020-984c5f5c-6f6d-4ef4-981e-53b46c09fff0",
    "deepnote_cell_type": "code"
   }
  },
  {
   "cell_type": "markdown",
   "source": [
    "---\n",
    "<br>\n",
    "\n",
    "## Data Prototype \n",
    "\n",
    "We need to have the basic idea about tags to be used for extraction of any specific data about a product. So we need to create a prototype for reference."
   ],
   "metadata": {
    "cell_id": "00021-d049f7c4-4ae4-4705-9e51-c41dcc07b730",
    "deepnote_cell_type": "markdown"
   }
  },
  {
   "cell_type": "code",
   "execution_count": 10,
   "source": [
    "item_prototype = data_extracted[0]"
   ],
   "outputs": [],
   "metadata": {
    "cell_id": "00022-ee2fde55-d513-4ee9-9e05-86e030cbf33b",
    "deepnote_cell_type": "code"
   }
  },
  {
   "cell_type": "markdown",
   "source": [
    "Earlier in data_extracted list we had all the HTML code separated for every product but now we need only some specific details like price and ratings, which can lead us to any conclusion about a product. Therefore the <b>extract_record()</b> is created to help us with that."
   ],
   "metadata": {
    "cell_id": "00023-1b1d5cc0-41be-4779-8543-54b85a696e95",
    "deepnote_cell_type": "markdown"
   }
  },
  {
   "cell_type": "code",
   "execution_count": 11,
   "source": [
    "def extract_record(item_prototype):\r\n",
    "    \"\"\"Extract and return data from single record\"\"\"\r\n",
    "        \r\n",
    "    # name and url\r\n",
    "    atag = item_prototype.h2.a\r\n",
    "    name = atag.text.strip()\r\n",
    "    new_url = url[:-1]+atag.get('href')\r\n",
    "    \r\n",
    "    # price\r\n",
    "    price_parent = item_prototype.find('span', 'a-price')\r\n",
    "    price = price_parent.find('span', 'a-offscreen').text\r\n",
    "\r\n",
    "    # rating and review_count\r\n",
    "    rating = item_prototype.i.text\r\n",
    "    review_count = item_prototype.find('span', {'class': 'a-size-base'}).text\r\n",
    "\r\n",
    "    res = (description, price, rating, review_count, url)\r\n",
    "    return res"
   ],
   "outputs": [],
   "metadata": {
    "cell_id": "00024-10dfaa51-c6dc-4fbf-afcf-2128e4bace94",
    "deepnote_cell_type": "code"
   }
  },
  {
   "cell_type": "markdown",
   "source": [
    "The above <b>extract_record()</b> function is suitable only if all the variables are assigned with some values. But, in some product there may not be price or reviews. So, we need to perform some error handling on these variables."
   ],
   "metadata": {
    "cell_id": "00025-521a520b-1274-4f9e-bcb7-1382b328b697",
    "deepnote_cell_type": "markdown"
   }
  },
  {
   "cell_type": "markdown",
   "source": [
    "---\n",
    "<br>\n",
    "\n",
    "## Error handling"
   ],
   "metadata": {
    "cell_id": "00026-529f20f4-a3dc-477f-a570-75b20158f0a0",
    "deepnote_cell_type": "markdown"
   }
  },
  {
   "cell_type": "code",
   "execution_count": 12,
   "source": [
    "def extract_record(item_prototype):\r\n",
    "    \"\"\"Extract and return data from single record\"\"\"\r\n",
    "        \r\n",
    "    # name and url\r\n",
    "    atag = item_prototype.h2.a\r\n",
    "    name = atag.text.strip()\r\n",
    "    new_url = \"http://www.amazon.in\"+atag.get('href')\r\n",
    "    \r\n",
    "    try:\r\n",
    "        # price\r\n",
    "        price_parent = item_prototype.find('span', 'a-price')\r\n",
    "        price = price_parent.find('span', 'a-offscreen').text\r\n",
    "        \r\n",
    "    except AttributeError:\r\n",
    "        return\r\n",
    "    \r\n",
    "    try:\r\n",
    "        # rating and review_count\r\n",
    "        rating = item_prototype.i.text\r\n",
    "        review_count = item_prototype.find('span', {'class': 'a-size-base'}).text\r\n",
    "    except AttributeError:\r\n",
    "        rating = ''\r\n",
    "        review_count = 0\r\n",
    "    \r\n",
    "    res = (name, price, rating, review_count, new_url)\r\n",
    "    return res"
   ],
   "outputs": [],
   "metadata": {
    "cell_id": "00027-5daf4086-a934-4995-b1fe-d552bef42b68",
    "deepnote_cell_type": "code"
   }
  },
  {
   "cell_type": "markdown",
   "source": [
    "The below loop will iterate over every product and retrieve the data into <b>records</b> list which eventually will become a list of tuples."
   ],
   "metadata": {
    "cell_id": "00028-795b22b9-fc59-4837-88ff-345935097710",
    "deepnote_cell_type": "markdown"
   }
  },
  {
   "cell_type": "code",
   "execution_count": 13,
   "source": [
    "records = []\r\n",
    "for item in data_extracted:\r\n",
    "    record = extract_record(item)\r\n",
    "    if record:\r\n",
    "        records.append(extract_record(item))\r\n",
    "\r\n",
    "print(records[0])"
   ],
   "outputs": [
    {
     "output_type": "stream",
     "name": "stdout",
     "text": [
      "('MSI GF75 Thin, Intel i7-10750H, 17.3\" (43.9 cm) FHD IPS-Level 144Hz Panel Laptop (8GB/512GB NVMe SSD/Windows 10 Home/Nvidia GTX1650 4GB GDDR6/Black/2.2Kg), 10SCXR-654IN', '₹74,990', '4.2 out of 5 stars', '3', 'http://www.amazon.in/gp/slredirect/picassoRedirect.html/ref=pa_sp_atf_aps_sr_pg1_1?ie=UTF8&adId=A0329867302QDVUZGKRXV&url=%2FMSI-i7-10750H-IPS-Level-Windows-10SCXR-654IN%2Fdp%2FB093L8QGL7%2Fref%3Dsr_1_1_sspa%3Fdchild%3D1%26keywords%3DMSI%2Blaptops%26qid%3D1627324637%26sr%3D8-1-spons%26psc%3D1&qualifier=1627324637&id=2274138165704014&widgetName=sp_atf')\n"
     ]
    }
   ],
   "metadata": {
    "cell_id": "00029-d030a564-0e40-4bca-a94c-fa6ef57c68ff",
    "deepnote_cell_type": "code"
   }
  },
  {
   "cell_type": "markdown",
   "source": [
    "---\n",
    "<br>\n",
    "\n",
    "## Navigating to next page\n",
    "\n",
    "We need to navigate through all the pages to get the full data on any searched item. \n",
    "\n",
    "https://www.amazon.in/s?k=laptop+bags&page=2&qid=1627206041&ref=sr_pg_1\n",
    "\n",
    "Here we can see that there is a page query in the url and we will use that query to navigate thorugh pages. Each query is concatenated with URL along with \"&\""
   ],
   "metadata": {
    "cell_id": "00030-637bfcc3-6c6d-456b-988d-b458c02adb70",
    "deepnote_cell_type": "markdown"
   }
  },
  {
   "cell_type": "code",
   "execution_count": 14,
   "source": [
    "def get_url(search_term):\r\n",
    "    \"\"\"Generate url with search term\"\"\"\r\n",
    "    template = \"https://www.amazon.in/s?k={}&ref=nb_sb_noss_2\"\r\n",
    "    search_term = search_term.replace(\" \", \"+\")\r\n",
    "    \r\n",
    "    # Add page query to url\r\n",
    "    url = template.format(search_term)\r\n",
    "    \r\n",
    "    # Add page to the placeholder\r\n",
    "    url += '&page={}'\r\n",
    "    \r\n",
    "    return url"
   ],
   "outputs": [],
   "metadata": {
    "cell_id": "00031-16b76f17-b878-4103-a078-dff27e6c428e",
    "deepnote_cell_type": "code"
   }
  },
  {
   "cell_type": "markdown",
   "source": [
    "After running above function the query will look something like-\n",
    "\n",
    "https://www.amazon.in/s?k=laptop+bags&ref=nb_sb_noss_2&page{}\n",
    "\n",
    "Here we can pass any page number in the placeholder \"{}\""
   ],
   "metadata": {
    "cell_id": "00032-2d2cfa37-9919-4481-a2cf-e90407a0f18a",
    "deepnote_cell_type": "markdown"
   }
  },
  {
   "cell_type": "markdown",
   "source": [
    "---\n",
    "<br>\n",
    "\n",
    "## Combine the code together\n",
    "\n",
    "Below is the compilation of the above functions and assignments as per the necessary order. One can simply copy this code and run on there system if they have the packages installed."
   ],
   "metadata": {
    "cell_id": "00033-2ad511be-de4e-4d85-83e3-45325d2a317d",
    "deepnote_cell_type": "markdown"
   }
  },
  {
   "cell_type": "code",
   "execution_count": 52,
   "source": [
    "import pandas as pd\r\n",
    "import numpy as np\r\n",
    "import os\r\n",
    "from selenium import webdriver\r\n",
    "from bs4 import BeautifulSoup\r\n",
    "\r\n",
    "def get_url(search_term):\r\n",
    "    \"\"\"Generate url with search term\"\"\"\r\n",
    "    \r\n",
    "    template = \"https://www.amazon.in/s?k={}&ref=nb_sb_noss_2\"\r\n",
    "    search_term = search_term.replace(\" \", \"+\")\r\n",
    "    \r\n",
    "    # Add search term to url\r\n",
    "    url = template.format(search_term)\r\n",
    "    \r\n",
    "    # Add page query to the placeholder\r\n",
    "    url += '&page={}'\r\n",
    "    \r\n",
    "    return url\r\n",
    "\r\n",
    "def extract_record(item):\r\n",
    "    \"\"\"Extract and return data from single record\"\"\"\r\n",
    "        \r\n",
    "    # name and url\r\n",
    "    atag = item.h2.a\r\n",
    "    name = atag.text.strip()\r\n",
    "    new_url = \"http://www.amazon.in\"+atag.get('href')\r\n",
    "    \r\n",
    "    try:\r\n",
    "        # price\r\n",
    "        price_parent = item.find('span', 'a-price')\r\n",
    "        price = price_parent.find('span', 'a-offscreen').text\r\n",
    "        \r\n",
    "    except AttributeError:\r\n",
    "        return\r\n",
    "    \r\n",
    "    try:\r\n",
    "        # rating and review_count\r\n",
    "        rating = item.i.text\r\n",
    "        review_count = item.find('span', {'class': 'a-size-base'}).text\r\n",
    "    except AttributeError:\r\n",
    "        rating = ''\r\n",
    "        review_count = 0\r\n",
    "    \r\n",
    "    res = [name, price, rating, review_count, new_url]\r\n",
    "    return res\r\n",
    "\r\n",
    "def driverFunction(search_term, file_name): # File name should have .csv ending\r\n",
    "    \r\n",
    "    DRIVER = webdriver.Edge(executable_path=\"D:/Downloads/Edge Downloads/edgedriver_win64/msedgedriver.exe\")\r\n",
    "    \r\n",
    "    DATA = []\r\n",
    "    URL = get_url(search_term)\r\n",
    "    \r\n",
    "    for page in range(1,21):\r\n",
    "        DRIVER.get(URL.format(page))\r\n",
    "        SOUP = BeautifulSoup(DRIVER.page_source, 'html.parser')\r\n",
    "        RESULTS = SOUP.find_all('div', {'data-component-type': 's-search-result'})\r\n",
    "        for item in RESULTS:\r\n",
    "            RES = extract_record(item)\r\n",
    "            if RES:\r\n",
    "                DATA.append(RES)\r\n",
    "    \r\n",
    "    DRIVER.close()\r\n",
    "    \r\n",
    "    df = pd.DataFrame(DATA, columns = ['Name', 'Price', 'Ratings', 'Review_Count', 'URL'])\r\n",
    "    df.to_csv(file_name, index=False)"
   ],
   "outputs": [],
   "metadata": {
    "cell_id": "00034-218d31b3-8c5e-43a1-875f-70b43cc1afef",
    "deepnote_cell_type": "code",
    "deepnote_to_be_reexecuted": false,
    "execution_millis": 785,
    "execution_start": 1627292313025,
    "source_hash": "303f1d24"
   }
  },
  {
   "cell_type": "code",
   "execution_count": 54,
   "source": [
    "if __name__==\"__main__\":\r\n",
    "    driverFunction(\"laptop bags\", \"Amazon_Laptop_Bags.csv\")"
   ],
   "outputs": [],
   "metadata": {
    "cell_id": "00035-a5a707eb-a787-4bc5-a48f-f69852882735",
    "deepnote_cell_type": "code"
   }
  },
  {
   "cell_type": "markdown",
   "source": [
    "<b>driverFunction()</b> function will export a amazon_scape_data.csv file which can be used to look for suitable product and for future analysis purpose"
   ],
   "metadata": {
    "cell_id": "00036-1a55399d-2c1d-4b7b-a753-279c43d7c403",
    "deepnote_cell_type": "markdown"
   }
  },
  {
   "cell_type": "markdown",
   "source": [
    "---\n",
    "<br>\n",
    "\n",
    "## Let's take this project to next step\n",
    "\n",
    "Now that we have developed a way to scrap data, we can perform some analysis and visual representation on any data we want. \n",
    "\n",
    "Let's look into some MSI Laptops on Amazon India -"
   ],
   "metadata": {
    "cell_id": "00037-1f87e959-8011-43b6-9682-b46cfab80285",
    "deepnote_cell_type": "markdown"
   }
  },
  {
   "cell_type": "code",
   "execution_count": 17,
   "source": [
    "main(\"msi laptop\", \"Amazon_MSI_Laptops.csv\")"
   ],
   "outputs": [],
   "metadata": {
    "cell_id": "00038-d3f4852d-7b89-4ea0-88f2-07341641d5e2",
    "deepnote_cell_type": "code",
    "deepnote_to_be_reexecuted": false,
    "execution_millis": 4,
    "execution_start": 1627298477429,
    "source_hash": "f70d4eb8"
   }
  },
  {
   "cell_type": "markdown",
   "source": [
    ">**<u>NOTE</u> -** \n",
    ">>On amazon most of the important technical details are mentioned in the name itself.\n",
    "<br> \n",
    ">>Prices may vary from the time of data extraction\n",
    "\n",
    "<br>\n",
    "ex - MSI GF75 17.3\" FHD 120Hz Thin Gaming Laptop, 10th Gen Intel Core i5-10300H, Backlight Keyboard, HDMI, Wi-Fi 6, Webcam, Amazon Alexa, USB-C, GeForce GTX 1650, Windows 10 (32GB RAM|512GB PCIe SSD)\n",
    "\n",
    "<br>This products name also includes the screen refresh rate, processor name, graphics card detail, OS name, storage and RAM details. So these will be sufficient for initial screening."
   ],
   "metadata": {
    "cell_id": "00039-3e7016b2-834d-4ad2-8899-ec863a6dd21b",
    "deepnote_cell_type": "markdown"
   }
  },
  {
   "cell_type": "markdown",
   "source": [
    "---\n",
    "<br>\n",
    "\n",
    "### Reading and exploring the dataset"
   ],
   "metadata": {
    "cell_id": "00040-aed96056-a2e0-47c5-8502-430afd005b08",
    "deepnote_cell_type": "markdown"
   }
  },
  {
   "cell_type": "code",
   "execution_count": 18,
   "source": [
    "import matplotlib.pyplot as plt\r\n",
    "import seaborn as sns"
   ],
   "outputs": [],
   "metadata": {}
  },
  {
   "cell_type": "code",
   "execution_count": 19,
   "source": [
    "col = ['Name', 'Price', 'Ratings', 'Review_Count', 'URL']\r\n",
    "MSI = pd.read_csv('Amazon_MSI_Laptops.csv')\r\n",
    "MSI.columns = col"
   ],
   "outputs": [],
   "metadata": {
    "cell_id": "00041-087952c1-8908-4803-b4df-2ed98fcb71c3",
    "deepnote_cell_type": "code",
    "deepnote_to_be_reexecuted": false,
    "execution_millis": 0,
    "execution_start": 1627312030136,
    "source_hash": "d8226139"
   }
  },
  {
   "cell_type": "code",
   "execution_count": 20,
   "source": [
    "MSI.head()"
   ],
   "outputs": [
    {
     "output_type": "execute_result",
     "data": {
      "text/plain": [
       "                                                Name    Price  \\\n",
       "0  MSI Bravo 15 Ryzen 7 4800H 15.6\" (39.62cms) FH...  ₹75,990   \n",
       "1  MSI Modern 15, Intel 10th Gen. i5-10210U, 15.6...  ₹53,990   \n",
       "2  MSI GF65 Thin, Intel i7-10750H, 15.6\" FHD (39....  ₹81,990   \n",
       "3  MSI GF75 Thin, Intel i7-10750H, 17.3\" (43.9 cm...  ₹74,990   \n",
       "4  MSI GF63 Thin Core i7 9th Gen - (8 GB/512 GB S...  ₹69,990   \n",
       "\n",
       "              Ratings Review_Count  \\\n",
       "0  4.2 out of 5 stars           53   \n",
       "1  3.3 out of 5 stars            7   \n",
       "2  3.6 out of 5 stars           15   \n",
       "3  4.2 out of 5 stars            3   \n",
       "4  3.5 out of 5 stars            2   \n",
       "\n",
       "                                                 URL  \n",
       "0  http://www.amazon.in/gp/slredirect/picassoRedi...  \n",
       "1  http://www.amazon.in/gp/slredirect/picassoRedi...  \n",
       "2  http://www.amazon.in/MSI-i7-10750H-IPS-Level-W...  \n",
       "3  http://www.amazon.in/MSI-i7-10750H-IPS-Level-W...  \n",
       "4  http://www.amazon.in/MSI-GF63-Thin-Core-9th/dp...  "
      ],
      "text/html": [
       "<div>\n",
       "<style scoped>\n",
       "    .dataframe tbody tr th:only-of-type {\n",
       "        vertical-align: middle;\n",
       "    }\n",
       "\n",
       "    .dataframe tbody tr th {\n",
       "        vertical-align: top;\n",
       "    }\n",
       "\n",
       "    .dataframe thead th {\n",
       "        text-align: right;\n",
       "    }\n",
       "</style>\n",
       "<table border=\"1\" class=\"dataframe\">\n",
       "  <thead>\n",
       "    <tr style=\"text-align: right;\">\n",
       "      <th></th>\n",
       "      <th>Name</th>\n",
       "      <th>Price</th>\n",
       "      <th>Ratings</th>\n",
       "      <th>Review_Count</th>\n",
       "      <th>URL</th>\n",
       "    </tr>\n",
       "  </thead>\n",
       "  <tbody>\n",
       "    <tr>\n",
       "      <th>0</th>\n",
       "      <td>MSI Bravo 15 Ryzen 7 4800H 15.6\" (39.62cms) FH...</td>\n",
       "      <td>₹75,990</td>\n",
       "      <td>4.2 out of 5 stars</td>\n",
       "      <td>53</td>\n",
       "      <td>http://www.amazon.in/gp/slredirect/picassoRedi...</td>\n",
       "    </tr>\n",
       "    <tr>\n",
       "      <th>1</th>\n",
       "      <td>MSI Modern 15, Intel 10th Gen. i5-10210U, 15.6...</td>\n",
       "      <td>₹53,990</td>\n",
       "      <td>3.3 out of 5 stars</td>\n",
       "      <td>7</td>\n",
       "      <td>http://www.amazon.in/gp/slredirect/picassoRedi...</td>\n",
       "    </tr>\n",
       "    <tr>\n",
       "      <th>2</th>\n",
       "      <td>MSI GF65 Thin, Intel i7-10750H, 15.6\" FHD (39....</td>\n",
       "      <td>₹81,990</td>\n",
       "      <td>3.6 out of 5 stars</td>\n",
       "      <td>15</td>\n",
       "      <td>http://www.amazon.in/MSI-i7-10750H-IPS-Level-W...</td>\n",
       "    </tr>\n",
       "    <tr>\n",
       "      <th>3</th>\n",
       "      <td>MSI GF75 Thin, Intel i7-10750H, 17.3\" (43.9 cm...</td>\n",
       "      <td>₹74,990</td>\n",
       "      <td>4.2 out of 5 stars</td>\n",
       "      <td>3</td>\n",
       "      <td>http://www.amazon.in/MSI-i7-10750H-IPS-Level-W...</td>\n",
       "    </tr>\n",
       "    <tr>\n",
       "      <th>4</th>\n",
       "      <td>MSI GF63 Thin Core i7 9th Gen - (8 GB/512 GB S...</td>\n",
       "      <td>₹69,990</td>\n",
       "      <td>3.5 out of 5 stars</td>\n",
       "      <td>2</td>\n",
       "      <td>http://www.amazon.in/MSI-GF63-Thin-Core-9th/dp...</td>\n",
       "    </tr>\n",
       "  </tbody>\n",
       "</table>\n",
       "</div>"
      ]
     },
     "metadata": {},
     "execution_count": 20
    }
   ],
   "metadata": {
    "cell_id": "00042-cf74b8d7-3cb8-47c2-82c7-c4de3fa8bf76",
    "deepnote_cell_type": "code",
    "deepnote_to_be_reexecuted": false,
    "execution_millis": 32,
    "execution_start": 1627312030740,
    "source_hash": "9ab0bcbd"
   }
  },
  {
   "cell_type": "markdown",
   "source": [
    "We should get some basic idea about the data that we have collected -"
   ],
   "metadata": {
    "cell_id": "00043-c35b0a57-4cca-49c8-831c-7b0642314966",
    "deepnote_cell_type": "markdown"
   }
  },
  {
   "cell_type": "code",
   "execution_count": 21,
   "source": [
    "print(\"Number of laptops searched:\", len(MSI))"
   ],
   "outputs": [
    {
     "output_type": "stream",
     "name": "stdout",
     "text": [
      "Number of laptops searched: 85\n"
     ]
    }
   ],
   "metadata": {
    "cell_id": "00044-fb372a67-8b90-4be0-8983-ed8946e30ed9",
    "deepnote_cell_type": "code",
    "deepnote_to_be_reexecuted": false,
    "execution_millis": 18,
    "execution_start": 1627312044949,
    "source_hash": "cb2b56cc"
   }
  },
  {
   "cell_type": "code",
   "execution_count": 22,
   "source": [
    "print(\"Info on columns of MSI:\\n\")\r\n",
    "print(MSI.info())"
   ],
   "outputs": [
    {
     "output_type": "stream",
     "name": "stdout",
     "text": [
      "Info on columns of MSI:\n",
      "\n",
      "<class 'pandas.core.frame.DataFrame'>\n",
      "RangeIndex: 85 entries, 0 to 84\n",
      "Data columns (total 5 columns):\n",
      " #   Column        Non-Null Count  Dtype \n",
      "---  ------        --------------  ----- \n",
      " 0   Name          85 non-null     object\n",
      " 1   Price         85 non-null     object\n",
      " 2   Ratings       61 non-null     object\n",
      " 3   Review_Count  85 non-null     object\n",
      " 4   URL           85 non-null     object\n",
      "dtypes: object(5)\n",
      "memory usage: 3.4+ KB\n",
      "None\n"
     ]
    }
   ],
   "metadata": {
    "cell_id": "00045-e1d929eb-8c67-49f6-9550-01ccb28b0722",
    "deepnote_cell_type": "code",
    "deepnote_to_be_reexecuted": false,
    "execution_millis": 46,
    "execution_start": 1627312044958,
    "source_hash": "381ce15a"
   }
  },
  {
   "cell_type": "markdown",
   "source": [
    "Some laptops from other companies have also been scraped due to the sponsors and advertisements of other companies. So, we need to remove those too."
   ],
   "metadata": {
    "cell_id": "00052-86437399-7135-4671-b92f-8094a30abc8f",
    "deepnote_cell_type": "markdown",
    "tags": []
   }
  },
  {
   "cell_type": "markdown",
   "source": [
    "---\n",
    "<br>\n",
    "\n",
    "### Cleaning the dataset\n",
    "\n",
    "Before starting any further with the dataset we'll remove the laptops which are not from MSI company"
   ],
   "metadata": {
    "cell_id": "00046-3a400614-b0b1-422f-934c-b4b801b7ca2c",
    "deepnote_cell_type": "markdown"
   }
  },
  {
   "cell_type": "code",
   "execution_count": 23,
   "source": [
    "fromMSI = [True if 'msi' in MSI.loc[row,'Name'].lower() else False for row in MSI.index]\r\n",
    "MSI = MSI.loc[fromMSI]"
   ],
   "outputs": [],
   "metadata": {
    "cell_id": "00053-a2b70d0a-e256-4d1c-8c7c-9df06cbe0b91",
    "deepnote_cell_type": "code",
    "deepnote_to_be_reexecuted": false,
    "execution_millis": 0,
    "execution_start": 1627312044984,
    "source_hash": "7bb7b05f",
    "tags": []
   }
  },
  {
   "cell_type": "markdown",
   "source": [
    "Some laptops have been duplicate data in the dataset. We need to remove those for accuracy."
   ],
   "metadata": {
    "cell_id": "00049-b5ce85c5-e480-40f3-8430-f5ec8f9fe9b2",
    "deepnote_cell_type": "markdown",
    "tags": []
   }
  },
  {
   "cell_type": "code",
   "execution_count": 24,
   "source": [
    "MSI.drop_duplicates('Name', inplace=True)"
   ],
   "outputs": [],
   "metadata": {
    "cell_id": "00050-23ec3472-5b09-4097-a534-2d05ec16a144",
    "deepnote_cell_type": "code",
    "deepnote_to_be_reexecuted": false,
    "execution_millis": 3,
    "execution_start": 1627312044987,
    "source_hash": "9b196ba",
    "tags": []
   }
  },
  {
   "cell_type": "markdown",
   "source": [
    "We have seen that Price, Ratings and Review_Count are in string format. We'll modify it later.\n",
    "<br>\n",
    "We need to check for null values first."
   ],
   "metadata": {
    "cell_id": "00049-22d9e233-f122-4b21-a35e-f7bda7194341",
    "deepnote_cell_type": "markdown",
    "tags": []
   }
  },
  {
   "cell_type": "code",
   "execution_count": 25,
   "source": [
    "print(\"Number of Null values in each column:\\n\")\r\n",
    "print(MSI.isnull().sum())"
   ],
   "outputs": [
    {
     "output_type": "stream",
     "name": "stdout",
     "text": [
      "Number of Null values in each column:\n",
      "\n",
      "Name             0\n",
      "Price            0\n",
      "Ratings         17\n",
      "Review_Count     0\n",
      "URL              0\n",
      "dtype: int64\n"
     ]
    }
   ],
   "metadata": {
    "cell_id": "00047-cbe8f2bd-3742-47ae-a8cf-07b3e04f066b",
    "deepnote_cell_type": "code",
    "deepnote_to_be_reexecuted": false,
    "execution_millis": 19,
    "execution_start": 1627312044995,
    "source_hash": "768a6d2b"
   }
  },
  {
   "cell_type": "markdown",
   "source": [
    "From above observation we can see that 24 Laptops have no Ratings. Not having a rating may concern some people so, we'll add 0 to the rating of laptops which do not have any rating and also change the datatype of this column to float."
   ],
   "metadata": {
    "cell_id": "00048-e6e59536-b40f-4744-a299-c98f2ecd5640",
    "deepnote_cell_type": "markdown"
   }
  },
  {
   "cell_type": "code",
   "execution_count": 26,
   "source": [
    "MSI['Ratings'] = MSI['Ratings'].str[:3].astype(float)\r\n",
    "MSI.rename({'Ratings':'Ratings_5'}, axis=1, inplace=True)\r\n",
    "MSI['Ratings_5'] = MSI['Ratings_5'].fillna(0)\r\n",
    "print(MSI['Ratings_5'].head())"
   ],
   "outputs": [
    {
     "output_type": "stream",
     "name": "stdout",
     "text": [
      "0    4.2\n",
      "1    3.3\n",
      "2    3.6\n",
      "3    4.2\n",
      "4    3.5\n",
      "Name: Ratings_5, dtype: float64\n"
     ]
    }
   ],
   "metadata": {
    "cell_id": "00054-9c8c43b1-599a-4004-b103-a1a779b96891",
    "deepnote_cell_type": "code",
    "deepnote_to_be_reexecuted": false,
    "execution_millis": 15,
    "execution_start": 1627312045008,
    "source_hash": "64069af9",
    "tags": []
   }
  },
  {
   "cell_type": "code",
   "execution_count": 27,
   "source": [
    "MSI_clean = MSI.dropna()\r\n",
    "MSI_clean.isnull().sum()"
   ],
   "outputs": [
    {
     "output_type": "execute_result",
     "data": {
      "text/plain": [
       "Name            0\n",
       "Price           0\n",
       "Ratings_5       0\n",
       "Review_Count    0\n",
       "URL             0\n",
       "dtype: int64"
      ]
     },
     "metadata": {},
     "execution_count": 27
    }
   ],
   "metadata": {
    "cell_id": "00055-b51a8a20-1250-4b93-811b-3de21dd89791",
    "deepnote_cell_type": "code",
    "deepnote_to_be_reexecuted": false,
    "execution_millis": 53,
    "execution_start": 1627312045048,
    "source_hash": "8b6c055d",
    "tags": []
   }
  },
  {
   "cell_type": "markdown",
   "source": [
    "All the rows with null values have been removed. Now we can perform some visualizations and analysis."
   ],
   "metadata": {
    "cell_id": "00052-31dfa18f-634e-4f33-8e4f-28d34459b630",
    "deepnote_cell_type": "markdown"
   }
  },
  {
   "cell_type": "markdown",
   "source": [
    "---\n",
    "<br>\n",
    "\n",
    "### Creating Processor column\n",
    "\n",
    "Let's see how many laptops are having Intel processor and how many are having AMD processor. Since there is no column mentioning the processor names specificalyy, we'll have to create it."
   ],
   "metadata": {
    "cell_id": "00053-1a3f0a4c-e1d8-494b-b71d-b4d040012fc1",
    "deepnote_cell_type": "markdown"
   }
  },
  {
   "cell_type": "markdown",
   "source": [
    "We are concerned about only the latest processors from Intel i.e., i3, i5, i7 and i9.\n",
    "AMD names its processors like Ryzen 7 or r7 therefore, we'll be having different approach of extraction for both of the processor companies."
   ],
   "metadata": {
    "cell_id": "00054-ba55a4f7-af12-48e4-9f24-b7fb23472269",
    "deepnote_cell_type": "markdown"
   }
  },
  {
   "cell_type": "code",
   "execution_count": 28,
   "source": [
    "intel = [name for name in MSI_clean['Name'] for gen in ['i3', 'i5','i7','i9'] if gen in name.lower()]\r\n",
    "amd = [name for name in MSI_clean['Name'] for gen_name in ['r3', 'r5', 'r7','r9', 'ryzen'] if gen_name in name.lower()]"
   ],
   "outputs": [],
   "metadata": {
    "cell_id": "00055-5251f7c4-228b-4562-a0b4-93ca2c543ec0",
    "deepnote_cell_type": "code",
    "deepnote_to_be_reexecuted": false,
    "execution_millis": 0,
    "execution_start": 1627312045049,
    "source_hash": "a6c48692"
   }
  },
  {
   "cell_type": "code",
   "execution_count": 29,
   "source": [
    "print('Number of Laptops with Intel processor:', len(intel))"
   ],
   "outputs": [
    {
     "output_type": "stream",
     "name": "stdout",
     "text": [
      "Number of Laptops with Intel processor: 32\n"
     ]
    }
   ],
   "metadata": {
    "cell_id": "00056-af6450d5-09a4-4122-88a2-9d161b0862d1",
    "deepnote_cell_type": "code",
    "deepnote_to_be_reexecuted": false,
    "execution_millis": 51,
    "execution_start": 1627312045050,
    "source_hash": "533f1cba"
   }
  },
  {
   "cell_type": "code",
   "execution_count": 30,
   "source": [
    "print('Number of Laptops with AMD processor:', len(amd))"
   ],
   "outputs": [
    {
     "output_type": "stream",
     "name": "stdout",
     "text": [
      "Number of Laptops with AMD processor: 2\n"
     ]
    }
   ],
   "metadata": {
    "cell_id": "00057-ee988ac0-e8ab-4406-8c28-7c13ec4d788c",
    "deepnote_cell_type": "code",
    "deepnote_to_be_reexecuted": false,
    "execution_millis": 45,
    "execution_start": 1627312045056,
    "source_hash": "a68374da"
   }
  },
  {
   "cell_type": "code",
   "execution_count": 31,
   "source": [
    "print('Number of Laptops without processor mentioned: ', len(MSI_clean)-len(intel)-len(amd))"
   ],
   "outputs": [
    {
     "output_type": "stream",
     "name": "stdout",
     "text": [
      "Number of Laptops without processor mentioned:  2\n"
     ]
    }
   ],
   "metadata": {
    "cell_id": "00058-6a235461-e66c-47da-8811-36322cec3df2",
    "deepnote_cell_type": "code",
    "deepnote_to_be_reexecuted": false,
    "execution_millis": 36,
    "execution_start": 1627312045065,
    "source_hash": "db82f2b3"
   }
  },
  {
   "cell_type": "markdown",
   "source": [
    "After removing the rows the index values of every row is still the same as it was before removing null rows. Therefore we need to correct it otherwise it will be defficult to access data from dataset."
   ],
   "metadata": {
    "cell_id": "00059-1098e254-9365-4265-b04c-304c60a3e38c",
    "deepnote_cell_type": "markdown"
   }
  },
  {
   "cell_type": "code",
   "execution_count": 32,
   "source": [
    "MSI_clean.index = [*range(len(MSI_clean))]"
   ],
   "outputs": [],
   "metadata": {
    "cell_id": "00060-546af7e7-78b6-4fa0-82aa-fd50a8325d9f",
    "deepnote_cell_type": "code",
    "deepnote_to_be_reexecuted": false,
    "execution_millis": 4,
    "execution_start": 1627312045072,
    "source_hash": "b03947c1"
   }
  },
  {
   "cell_type": "markdown",
   "source": [
    "Now, we need to create a column where every laptops processors name is mentioned."
   ],
   "metadata": {
    "cell_id": "00061-9c119ed6-be64-4ba6-8be2-36ae230118f8",
    "deepnote_cell_type": "markdown"
   }
  },
  {
   "cell_type": "code",
   "execution_count": 33,
   "source": [
    "processor = []\r\n",
    "for row in MSI_clean.index:\r\n",
    "    if MSI_clean.loc[row, 'Name'] in intel:\r\n",
    "        processor.append('Intel')\r\n",
    "    elif MSI_clean.loc[row, 'Name'] in amd:\r\n",
    "        processor.append('AMD')\r\n",
    "    else:\r\n",
    "        processor.append(np.nan)\r\n",
    "\r\n",
    "MSI_clean['Processor'] = processor"
   ],
   "outputs": [],
   "metadata": {
    "cell_id": "00062-32b550d1-cfa2-45d6-908b-7b4b75445241",
    "deepnote_cell_type": "code",
    "deepnote_to_be_reexecuted": false,
    "execution_millis": 3,
    "execution_start": 1627312045081,
    "source_hash": "867f727b"
   }
  },
  {
   "cell_type": "markdown",
   "source": [
    "Let's check if the processor column has been added in the dataset or not."
   ],
   "metadata": {
    "cell_id": "00067-7d47f2eb-3100-4fd2-8843-0203acdbf033",
    "deepnote_cell_type": "markdown",
    "tags": []
   }
  },
  {
   "cell_type": "code",
   "execution_count": 34,
   "source": [
    "MSI_clean.head()"
   ],
   "outputs": [
    {
     "output_type": "execute_result",
     "data": {
      "text/plain": [
       "                                                Name    Price  Ratings_5  \\\n",
       "0  MSI Bravo 15 Ryzen 7 4800H 15.6\" (39.62cms) FH...  ₹75,990        4.2   \n",
       "1  MSI Modern 15, Intel 10th Gen. i5-10210U, 15.6...  ₹53,990        3.3   \n",
       "2  MSI GF65 Thin, Intel i7-10750H, 15.6\" FHD (39....  ₹81,990        3.6   \n",
       "3  MSI GF75 Thin, Intel i7-10750H, 17.3\" (43.9 cm...  ₹74,990        4.2   \n",
       "4  MSI GF63 Thin Core i7 9th Gen - (8 GB/512 GB S...  ₹69,990        3.5   \n",
       "\n",
       "  Review_Count                                                URL Processor  \n",
       "0           53  http://www.amazon.in/gp/slredirect/picassoRedi...       AMD  \n",
       "1            7  http://www.amazon.in/gp/slredirect/picassoRedi...     Intel  \n",
       "2           15  http://www.amazon.in/MSI-i7-10750H-IPS-Level-W...     Intel  \n",
       "3            3  http://www.amazon.in/MSI-i7-10750H-IPS-Level-W...     Intel  \n",
       "4            2  http://www.amazon.in/MSI-GF63-Thin-Core-9th/dp...     Intel  "
      ],
      "text/html": [
       "<div>\n",
       "<style scoped>\n",
       "    .dataframe tbody tr th:only-of-type {\n",
       "        vertical-align: middle;\n",
       "    }\n",
       "\n",
       "    .dataframe tbody tr th {\n",
       "        vertical-align: top;\n",
       "    }\n",
       "\n",
       "    .dataframe thead th {\n",
       "        text-align: right;\n",
       "    }\n",
       "</style>\n",
       "<table border=\"1\" class=\"dataframe\">\n",
       "  <thead>\n",
       "    <tr style=\"text-align: right;\">\n",
       "      <th></th>\n",
       "      <th>Name</th>\n",
       "      <th>Price</th>\n",
       "      <th>Ratings_5</th>\n",
       "      <th>Review_Count</th>\n",
       "      <th>URL</th>\n",
       "      <th>Processor</th>\n",
       "    </tr>\n",
       "  </thead>\n",
       "  <tbody>\n",
       "    <tr>\n",
       "      <th>0</th>\n",
       "      <td>MSI Bravo 15 Ryzen 7 4800H 15.6\" (39.62cms) FH...</td>\n",
       "      <td>₹75,990</td>\n",
       "      <td>4.2</td>\n",
       "      <td>53</td>\n",
       "      <td>http://www.amazon.in/gp/slredirect/picassoRedi...</td>\n",
       "      <td>AMD</td>\n",
       "    </tr>\n",
       "    <tr>\n",
       "      <th>1</th>\n",
       "      <td>MSI Modern 15, Intel 10th Gen. i5-10210U, 15.6...</td>\n",
       "      <td>₹53,990</td>\n",
       "      <td>3.3</td>\n",
       "      <td>7</td>\n",
       "      <td>http://www.amazon.in/gp/slredirect/picassoRedi...</td>\n",
       "      <td>Intel</td>\n",
       "    </tr>\n",
       "    <tr>\n",
       "      <th>2</th>\n",
       "      <td>MSI GF65 Thin, Intel i7-10750H, 15.6\" FHD (39....</td>\n",
       "      <td>₹81,990</td>\n",
       "      <td>3.6</td>\n",
       "      <td>15</td>\n",
       "      <td>http://www.amazon.in/MSI-i7-10750H-IPS-Level-W...</td>\n",
       "      <td>Intel</td>\n",
       "    </tr>\n",
       "    <tr>\n",
       "      <th>3</th>\n",
       "      <td>MSI GF75 Thin, Intel i7-10750H, 17.3\" (43.9 cm...</td>\n",
       "      <td>₹74,990</td>\n",
       "      <td>4.2</td>\n",
       "      <td>3</td>\n",
       "      <td>http://www.amazon.in/MSI-i7-10750H-IPS-Level-W...</td>\n",
       "      <td>Intel</td>\n",
       "    </tr>\n",
       "    <tr>\n",
       "      <th>4</th>\n",
       "      <td>MSI GF63 Thin Core i7 9th Gen - (8 GB/512 GB S...</td>\n",
       "      <td>₹69,990</td>\n",
       "      <td>3.5</td>\n",
       "      <td>2</td>\n",
       "      <td>http://www.amazon.in/MSI-GF63-Thin-Core-9th/dp...</td>\n",
       "      <td>Intel</td>\n",
       "    </tr>\n",
       "  </tbody>\n",
       "</table>\n",
       "</div>"
      ]
     },
     "metadata": {},
     "execution_count": 34
    }
   ],
   "metadata": {
    "cell_id": "00063-ebb53ba9-a36d-40b7-bbdb-16baa5e37761",
    "deepnote_cell_type": "code",
    "deepnote_to_be_reexecuted": false,
    "execution_millis": 42,
    "execution_start": 1627312045089,
    "source_hash": "1a6ae109"
   }
  },
  {
   "cell_type": "code",
   "execution_count": 35,
   "source": [
    "MSI_clean.isnull().sum()"
   ],
   "outputs": [
    {
     "output_type": "execute_result",
     "data": {
      "text/plain": [
       "Name            0\n",
       "Price           0\n",
       "Ratings_5       0\n",
       "Review_Count    0\n",
       "URL             0\n",
       "Processor       3\n",
       "dtype: int64"
      ]
     },
     "metadata": {},
     "execution_count": 35
    }
   ],
   "metadata": {
    "cell_id": "00064-dd4968b7-f290-473b-b732-f23c9e2286eb",
    "deepnote_cell_type": "code",
    "deepnote_to_be_reexecuted": false,
    "execution_millis": 33,
    "execution_start": 1627312045134,
    "source_hash": "af813e75"
   }
  },
  {
   "cell_type": "markdown",
   "source": [
    "We can seen that there were some laptops whose processor name was not mentioned anywhere. So, we need to remove these laptops from our dataset as it is of no concern for us."
   ],
   "metadata": {
    "cell_id": "00065-29f84b03-f6d3-4f7b-b22d-0e75c63aac6f",
    "deepnote_cell_type": "markdown"
   }
  },
  {
   "cell_type": "code",
   "execution_count": 36,
   "source": [
    "MSI_clean = MSI_clean.dropna()"
   ],
   "outputs": [],
   "metadata": {
    "cell_id": "00066-b5004128-737f-4065-8c32-190813e7989e",
    "deepnote_cell_type": "code",
    "deepnote_to_be_reexecuted": false,
    "execution_millis": 6,
    "execution_start": 1627312045149,
    "source_hash": "b4d19bf3"
   }
  },
  {
   "cell_type": "code",
   "execution_count": 37,
   "source": [
    "MSI_clean.isnull().sum()"
   ],
   "outputs": [
    {
     "output_type": "execute_result",
     "data": {
      "text/plain": [
       "Name            0\n",
       "Price           0\n",
       "Ratings_5       0\n",
       "Review_Count    0\n",
       "URL             0\n",
       "Processor       0\n",
       "dtype: int64"
      ]
     },
     "metadata": {},
     "execution_count": 37
    }
   ],
   "metadata": {
    "cell_id": "00067-66f36a0c-a3b9-4983-982f-f748ccc5279c",
    "deepnote_cell_type": "code",
    "deepnote_to_be_reexecuted": false,
    "execution_millis": 77,
    "execution_start": 1627312045156,
    "source_hash": "af813e75"
   }
  },
  {
   "cell_type": "code",
   "execution_count": 38,
   "source": [
    "print(\"Number of laptops left in dataset:\",len(MSI_clean))"
   ],
   "outputs": [
    {
     "output_type": "stream",
     "name": "stdout",
     "text": [
      "Number of laptops left in dataset: 33\n"
     ]
    }
   ],
   "metadata": {
    "cell_id": "00068-54f3e1a5-7c37-40af-ab11-f1f5ce0edab6",
    "deepnote_cell_type": "code",
    "deepnote_to_be_reexecuted": false,
    "execution_millis": 0,
    "execution_start": 1627312045175,
    "source_hash": "b343ba6d"
   }
  },
  {
   "cell_type": "markdown",
   "source": [
    "---\n",
    "<br><br>Now we just need to change Price and Reviews in numerical format."
   ],
   "metadata": {
    "cell_id": "00069-fc70d15e-d693-4d8a-938a-ebcf1718bc9f",
    "deepnote_cell_type": "markdown",
    "tags": []
   }
  },
  {
   "cell_type": "markdown",
   "source": [
    "**Price -** "
   ],
   "metadata": {
    "cell_id": "00070-610b58f2-7b1c-4a8e-b395-c94034903ae5",
    "deepnote_cell_type": "markdown",
    "tags": []
   }
  },
  {
   "cell_type": "code",
   "execution_count": 39,
   "source": [
    "MSI_clean['Price'] = MSI_clean['Price'].str.replace(\",\", \"\").str[1:].astype(float)\r\n",
    "MSI_clean.rename({'Price':'Price_Rs'}, axis=1, inplace=True)    \r\n",
    "print(MSI_clean['Price_Rs'].head())"
   ],
   "outputs": [
    {
     "output_type": "stream",
     "name": "stdout",
     "text": [
      "0    75990.0\n",
      "1    53990.0\n",
      "2    81990.0\n",
      "3    74990.0\n",
      "4    69990.0\n",
      "Name: Price_Rs, dtype: float64\n"
     ]
    }
   ],
   "metadata": {
    "cell_id": "00070-1d1282f9-511b-43cc-bcfa-ac77140984df",
    "deepnote_cell_type": "code",
    "deepnote_to_be_reexecuted": false,
    "execution_millis": 39,
    "execution_start": 1627312045200,
    "source_hash": "2e5f6160",
    "tags": []
   }
  },
  {
   "cell_type": "markdown",
   "source": [
    "**Reviews -**"
   ],
   "metadata": {
    "cell_id": "00077-e08800eb-5292-420f-b037-d36b40c39bc9",
    "deepnote_cell_type": "markdown",
    "tags": []
   }
  },
  {
   "cell_type": "code",
   "execution_count": 40,
   "source": [
    "# vals = [True if MSI_clean.loc[row, 'Review_Count']!=\"More Buying Choices\" else False for row in MSI_clean.index]\r\n",
    "# MSI_clean = MSI_clean[vals]\r\n",
    "MSI_clean['Review_Count'] = MSI_clean['Review_Count'].str.replace(\"More Buying Choices\", '0')\r\n",
    "MSI_clean['Review_Count'] = MSI_clean['Review_Count'].astype(float)\r\n",
    "MSI_clean['Review_Count'].head()"
   ],
   "outputs": [
    {
     "output_type": "execute_result",
     "data": {
      "text/plain": [
       "0    53.0\n",
       "1     7.0\n",
       "2    15.0\n",
       "3     3.0\n",
       "4     2.0\n",
       "Name: Review_Count, dtype: float64"
      ]
     },
     "metadata": {},
     "execution_count": 40
    }
   ],
   "metadata": {
    "cell_id": "00078-3f75a8e7-1243-4460-9c1b-29d05457870c",
    "deepnote_cell_type": "code",
    "deepnote_to_be_reexecuted": false,
    "execution_millis": 33,
    "execution_start": 1627312045206,
    "source_hash": "5b6b3bd7",
    "tags": []
   }
  },
  {
   "cell_type": "code",
   "execution_count": 41,
   "source": [
    "val = MSI_clean['Processor'].value_counts()\r\n",
    "sns.barplot(x=['Intel', 'AMD'], y=val)"
   ],
   "outputs": [
    {
     "output_type": "execute_result",
     "data": {
      "text/plain": [
       "<AxesSubplot:ylabel='Processor'>"
      ]
     },
     "metadata": {},
     "execution_count": 41
    },
    {
     "output_type": "display_data",
     "data": {
      "text/plain": [
       "<Figure size 432x288 with 1 Axes>"
      ],
      "image/png": "[encoded data removed]"
     },
     "metadata": {
      "needs_background": "light"
     }
    }
   ],
   "metadata": {
    "cell_id": "00069-895ca549-5ff5-4795-829f-a697da8146e3",
    "deepnote_cell_type": "code",
    "deepnote_to_be_reexecuted": false,
    "execution_millis": 64,
    "execution_start": 1627312045207,
    "source_hash": "f20d7060"
   }
  },
  {
   "cell_type": "markdown",
   "source": [
    "From the above graph we can assume that either MSI doesn't produce much laptops with AMD processors or most of the models with AMD laptops are out of stock. "
   ],
   "metadata": {
    "cell_id": "00078-ab468cb7-4ea7-4864-9622-59e9b04ddc71",
    "deepnote_cell_type": "markdown",
    "tags": []
   }
  },
  {
   "cell_type": "markdown",
   "source": [
    "---\n",
    "<br><br>Now, let's see the distribution of laptops on the basis of rating and price."
   ],
   "metadata": {
    "cell_id": "00075-0e3c167e-c3f9-4a2d-bf53-b3ce529507e9",
    "deepnote_cell_type": "markdown",
    "tags": []
   }
  },
  {
   "cell_type": "code",
   "execution_count": 42,
   "source": [
    "freq = []\r\n",
    "rates = ['<1', '1-2', '2-3', '3-4', '4<']\r\n",
    "for rate in range(1, 6):\r\n",
    "    count = 0\r\n",
    "    for rating in MSI_clean['Ratings_5']:\r\n",
    "        if rate-1<=rating<rate:\r\n",
    "            count+=1\r\n",
    "    freq.append(count)\r\n",
    "\r\n",
    "explode = (0.1, 0.1, 0.1, 0.1, 0.1)\r\n",
    "\r\n",
    "fig1, ax1 = plt.subplots(figsize=(12,10))\r\n",
    "ax1.pie(freq, explode=explode, autopct='%1.1f%%', shadow=True, startangle=90, radius = 0.9)\r\n",
    "ax1.legend(rates)\r\n",
    "ax1.axis('equal')\r\n",
    "plt.title(\"Distribution of percentage of laptops based on ratings\")\r\n",
    "plt.show()"
   ],
   "outputs": [
    {
     "output_type": "display_data",
     "data": {
      "text/plain": [
       "<Figure size 864x720 with 1 Axes>"
      ],
      "image/png": "[encoded data removed]"
     },
     "metadata": {}
    }
   ],
   "metadata": {
    "cell_id": "00075-7717c0d6-5e98-4c3e-b56c-58fbbc3fb926",
    "deepnote_cell_type": "code",
    "deepnote_to_be_reexecuted": false,
    "execution_millis": 44,
    "execution_start": 1627312182624,
    "source_hash": "b515524",
    "tags": []
   }
  },
  {
   "cell_type": "markdown",
   "source": [
    "We can observe that 50% of the laptops have rating in range 0-1 stars, 43.8% in range 3-5 stars and 6.26% in range 1-2 stars. So, we can say that current customers ka satisfied with most of the products available."
   ],
   "metadata": {
    "cell_id": "00077-ce6d7280-7b92-4b10-9eeb-ba5883d292e2",
    "deepnote_cell_type": "markdown",
    "tags": []
   }
  },
  {
   "cell_type": "markdown",
   "source": [
    "---\n",
    "<br><br>"
   ],
   "metadata": {
    "cell_id": "00084-d41b9522-f590-4c68-bd1f-55c673164ec2",
    "deepnote_cell_type": "markdown",
    "tags": []
   }
  },
  {
   "cell_type": "code",
   "execution_count": 43,
   "source": [
    "priceFreq = []\r\n",
    "priceRange = ['<50k', '50k-70k', '70k-100k', '100k-150k', '150k<']\r\n",
    "\r\n",
    "price_50k_below = MSI_clean.loc[MSI_clean.loc[:,'Price_Rs']<50000]\r\n",
    "priceFreq.append(len(price_50k_below))\r\n",
    "\r\n",
    "price_50k_to_70k = MSI_clean.loc[(50000<=MSI_clean.loc[:,'Price_Rs']) & (MSI_clean.loc[:,'Price_Rs']<70000)]\r\n",
    "priceFreq.append(len(price_50k_to_70k))\r\n",
    "\r\n",
    "price_70k_to_100k = MSI_clean.loc[(70000<=MSI_clean.loc[:,'Price_Rs']) & (MSI_clean.loc[:,'Price_Rs']<100000)]\r\n",
    "priceFreq.append(len(price_70k_to_100k))\r\n",
    "\r\n",
    "price_100k_to_150k = MSI_clean.loc[(100000<=MSI_clean.loc[:,'Price_Rs']) & (MSI_clean.loc[:,'Price_Rs']<150000)]\r\n",
    "priceFreq.append(len(price_100k_to_150k))\r\n",
    "\r\n",
    "price_150k_above = MSI_clean.loc[150000<=MSI_clean.loc[:,'Price_Rs']]\r\n",
    "priceFreq.append(len(price_150k_above))\r\n",
    "\r\n",
    "fig1, ax1 = plt.subplots(figsize=(12,10))\r\n",
    "ax1.pie(priceFreq, explode=explode, autopct='%1.1f%%', shadow=True, startangle=90, radius = 0.9)\r\n",
    "ax1.legend(priceRange)\r\n",
    "ax1.axis('equal')\r\n",
    "plt.title(\"Distribution of percentage of laptops based on price range\")\r\n",
    "plt.show()"
   ],
   "outputs": [
    {
     "output_type": "display_data",
     "data": {
      "text/plain": [
       "<Figure size 864x720 with 1 Axes>"
      ],
      "image/png": "[encoded data removed]"
     },
     "metadata": {}
    }
   ],
   "metadata": {
    "cell_id": "00084-42651510-e5bc-4640-a224-5301cfcfc8e8",
    "deepnote_cell_type": "code",
    "deepnote_to_be_reexecuted": false,
    "execution_millis": 50,
    "execution_start": 1627312350801,
    "source_hash": "e6c1fcf9",
    "tags": []
   }
  },
  {
   "cell_type": "markdown",
   "source": [
    "We can see that Most of the laptops i.e., 63.7% are in mid to high price range i.e. above Rs.70K and none of the laptops have price below Rs.50k"
   ],
   "metadata": {
    "cell_id": "00085-fbc72041-c87d-4184-a1d3-3227d60354b7",
    "deepnote_cell_type": "markdown",
    "tags": []
   }
  },
  {
   "cell_type": "markdown",
   "source": [
    "---\n",
    "<br><br>Let's create a function which can return the list of laptops in whatever range the user inputs - "
   ],
   "metadata": {
    "cell_id": "00078-24cd3cbc-2b38-42fc-883c-a25b3a255f5b",
    "deepnote_cell_type": "markdown",
    "tags": []
   }
  },
  {
   "cell_type": "code",
   "execution_count": 44,
   "source": [
    "def getLaptops(start=0, end=0):\r\n",
    "    l = min(start, end)\r\n",
    "    r = max(start, end)\r\n",
    "    Laptops = MSI_clean.loc[(MSI_clean.loc[:,'Price_Rs']>=l) & (MSI_clean.loc[:,'Price_Rs']<=r)]\r\n",
    "    return(Laptops)"
   ],
   "outputs": [],
   "metadata": {
    "cell_id": "00076-89e1a19b-f4b8-4a15-a0e7-8384a0e0e8e5",
    "deepnote_cell_type": "code",
    "deepnote_to_be_reexecuted": false,
    "execution_millis": 0,
    "execution_start": 1627312439652,
    "source_hash": "73b0f210",
    "tags": []
   }
  },
  {
   "cell_type": "code",
   "execution_count": 45,
   "source": [
    "Laptops_in_given_range = pd.DataFrame(getLaptops(20000, 60000))\r\n",
    "Laptops_in_given_range.index = [*range(len(Laptops_in_given_range))]\r\n",
    "Laptops_in_given_range\r\n",
    "\r\n",
    "# We can also directly print the list returned from the function in the following way but, it won't look elegant\r\n",
    "# print(getLaptops(20000,60000))"
   ],
   "outputs": [
    {
     "output_type": "execute_result",
     "data": {
      "text/plain": [
       "                                                Name  Price_Rs  Ratings_5  \\\n",
       "0  MSI Modern 15, Intel 10th Gen. i5-10210U, 15.6...   53990.0        3.3   \n",
       "\n",
       "   Review_Count                                                URL Processor  \n",
       "0           7.0  http://www.amazon.in/gp/slredirect/picassoRedi...     Intel  "
      ],
      "text/html": [
       "<div>\n",
       "<style scoped>\n",
       "    .dataframe tbody tr th:only-of-type {\n",
       "        vertical-align: middle;\n",
       "    }\n",
       "\n",
       "    .dataframe tbody tr th {\n",
       "        vertical-align: top;\n",
       "    }\n",
       "\n",
       "    .dataframe thead th {\n",
       "        text-align: right;\n",
       "    }\n",
       "</style>\n",
       "<table border=\"1\" class=\"dataframe\">\n",
       "  <thead>\n",
       "    <tr style=\"text-align: right;\">\n",
       "      <th></th>\n",
       "      <th>Name</th>\n",
       "      <th>Price_Rs</th>\n",
       "      <th>Ratings_5</th>\n",
       "      <th>Review_Count</th>\n",
       "      <th>URL</th>\n",
       "      <th>Processor</th>\n",
       "    </tr>\n",
       "  </thead>\n",
       "  <tbody>\n",
       "    <tr>\n",
       "      <th>0</th>\n",
       "      <td>MSI Modern 15, Intel 10th Gen. i5-10210U, 15.6...</td>\n",
       "      <td>53990.0</td>\n",
       "      <td>3.3</td>\n",
       "      <td>7.0</td>\n",
       "      <td>http://www.amazon.in/gp/slredirect/picassoRedi...</td>\n",
       "      <td>Intel</td>\n",
       "    </tr>\n",
       "  </tbody>\n",
       "</table>\n",
       "</div>"
      ]
     },
     "metadata": {},
     "execution_count": 45
    }
   ],
   "metadata": {
    "cell_id": "00080-9cf8113f-fc7a-44da-9d10-2502609d4f09",
    "deepnote_cell_type": "code",
    "deepnote_to_be_reexecuted": false,
    "execution_millis": 28,
    "execution_start": 1627312440256,
    "source_hash": "1fe32979",
    "tags": []
   }
  },
  {
   "cell_type": "markdown",
   "source": [
    "---\n",
    "<br><br>\n",
    "### Now let's see the least and the most in every necessary attribute"
   ],
   "metadata": {
    "cell_id": "00085-e7af7370-0c44-49d2-ad1a-c04b7fc8c964",
    "deepnote_cell_type": "markdown",
    "tags": []
   }
  },
  {
   "cell_type": "markdown",
   "source": [
    "**Price -**\n",
    "\n",
    "<br>Most expensive laptop:"
   ],
   "metadata": {
    "cell_id": "00086-74c25148-db9f-4051-9576-b76509a6bcc8",
    "deepnote_cell_type": "markdown",
    "tags": []
   }
  },
  {
   "cell_type": "code",
   "execution_count": 46,
   "source": [
    "mostExpensive = MSI_clean.loc[MSI_clean.loc[:,'Price_Rs']==max(MSI_clean.loc[:,'Price_Rs'])]\r\n",
    "if len(mostExpensive)>1:\r\n",
    "    for r in mostExpensive.index:\r\n",
    "        print(r, mostExpensive.loc[r,\"URL\"])\r\n",
    "else:\r\n",
    "    print(*mostExpensive[\"URL\"].values)\r\n",
    "mostExpensive"
   ],
   "outputs": [
    {
     "output_type": "stream",
     "name": "stdout",
     "text": [
      "http://www.amazon.in/MSI-i7-10875H-Windows-Titanium-10SGS-295IN/dp/B08MBG781T/ref=sr_1_31?dchild=1&keywords=msi+laptop&qid=1627278336&sr=8-31\n"
     ]
    },
    {
     "output_type": "execute_result",
     "data": {
      "text/plain": [
       "                                                 Name  Price_Rs  Ratings_5  \\\n",
       "25  MSI GE66 Raider, Intel 10th Gen. i7-10875H, 15...  299999.0        0.0   \n",
       "\n",
       "    Review_Count                                                URL Processor  \n",
       "25           0.0  http://www.amazon.in/MSI-i7-10875H-Windows-Tit...     Intel  "
      ],
      "text/html": [
       "<div>\n",
       "<style scoped>\n",
       "    .dataframe tbody tr th:only-of-type {\n",
       "        vertical-align: middle;\n",
       "    }\n",
       "\n",
       "    .dataframe tbody tr th {\n",
       "        vertical-align: top;\n",
       "    }\n",
       "\n",
       "    .dataframe thead th {\n",
       "        text-align: right;\n",
       "    }\n",
       "</style>\n",
       "<table border=\"1\" class=\"dataframe\">\n",
       "  <thead>\n",
       "    <tr style=\"text-align: right;\">\n",
       "      <th></th>\n",
       "      <th>Name</th>\n",
       "      <th>Price_Rs</th>\n",
       "      <th>Ratings_5</th>\n",
       "      <th>Review_Count</th>\n",
       "      <th>URL</th>\n",
       "      <th>Processor</th>\n",
       "    </tr>\n",
       "  </thead>\n",
       "  <tbody>\n",
       "    <tr>\n",
       "      <th>25</th>\n",
       "      <td>MSI GE66 Raider, Intel 10th Gen. i7-10875H, 15...</td>\n",
       "      <td>299999.0</td>\n",
       "      <td>0.0</td>\n",
       "      <td>0.0</td>\n",
       "      <td>http://www.amazon.in/MSI-i7-10875H-Windows-Tit...</td>\n",
       "      <td>Intel</td>\n",
       "    </tr>\n",
       "  </tbody>\n",
       "</table>\n",
       "</div>"
      ]
     },
     "metadata": {},
     "execution_count": 46
    }
   ],
   "metadata": {
    "cell_id": "00085-e2db0ea7-71fd-4d24-9a03-d8ef2f449381",
    "deepnote_cell_type": "code",
    "deepnote_to_be_reexecuted": false,
    "execution_millis": 43,
    "execution_start": 1627312443196,
    "source_hash": "8b3996b7",
    "tags": []
   }
  },
  {
   "cell_type": "markdown",
   "source": [
    "Cheapest laptop:"
   ],
   "metadata": {
    "cell_id": "00092-ea04ce93-b16d-46c3-8809-aa709bc0f94f",
    "deepnote_cell_type": "markdown",
    "tags": []
   }
  },
  {
   "cell_type": "code",
   "execution_count": 47,
   "source": [
    "cheapest = MSI_clean.loc[MSI_clean.loc[:,'Price_Rs']==min(MSI_clean.loc[:,'Price_Rs'])]\r\n",
    "if len(cheapest)>1:\r\n",
    "    for r in cheapest.index:\r\n",
    "        print(r, cheapest.loc[r,\"URL\"])\r\n",
    "else:\r\n",
    "    print(*cheapest[\"URL\"].values)\r\n",
    "cheapest\r\n"
   ],
   "outputs": [
    {
     "output_type": "stream",
     "name": "stdout",
     "text": [
      "http://www.amazon.in/gp/slredirect/picassoRedirect.html/ref=pa_sp_atf_aps_sr_pg1_1?ie=UTF8&adId=A000534837MVNT4XY3CX8&url=%2FMSI-i5-10210U-39-62cms-Windows-A10M-482IN%2Fdp%2FB08NTVZMWD%2Fref%3Dsr_1_2_sspa%3Fdchild%3D1%26keywords%3Dmsi%2Blaptop%26qid%3D1627278334%26sr%3D8-2-spons%26psc%3D1&qualifier=1627278334&id=6346026282846977&widgetName=sp_atf\n"
     ]
    },
    {
     "output_type": "execute_result",
     "data": {
      "text/plain": [
       "                                                Name  Price_Rs  Ratings_5  \\\n",
       "1  MSI Modern 15, Intel 10th Gen. i5-10210U, 15.6...   53990.0        3.3   \n",
       "\n",
       "   Review_Count                                                URL Processor  \n",
       "1           7.0  http://www.amazon.in/gp/slredirect/picassoRedi...     Intel  "
      ],
      "text/html": [
       "<div>\n",
       "<style scoped>\n",
       "    .dataframe tbody tr th:only-of-type {\n",
       "        vertical-align: middle;\n",
       "    }\n",
       "\n",
       "    .dataframe tbody tr th {\n",
       "        vertical-align: top;\n",
       "    }\n",
       "\n",
       "    .dataframe thead th {\n",
       "        text-align: right;\n",
       "    }\n",
       "</style>\n",
       "<table border=\"1\" class=\"dataframe\">\n",
       "  <thead>\n",
       "    <tr style=\"text-align: right;\">\n",
       "      <th></th>\n",
       "      <th>Name</th>\n",
       "      <th>Price_Rs</th>\n",
       "      <th>Ratings_5</th>\n",
       "      <th>Review_Count</th>\n",
       "      <th>URL</th>\n",
       "      <th>Processor</th>\n",
       "    </tr>\n",
       "  </thead>\n",
       "  <tbody>\n",
       "    <tr>\n",
       "      <th>1</th>\n",
       "      <td>MSI Modern 15, Intel 10th Gen. i5-10210U, 15.6...</td>\n",
       "      <td>53990.0</td>\n",
       "      <td>3.3</td>\n",
       "      <td>7.0</td>\n",
       "      <td>http://www.amazon.in/gp/slredirect/picassoRedi...</td>\n",
       "      <td>Intel</td>\n",
       "    </tr>\n",
       "  </tbody>\n",
       "</table>\n",
       "</div>"
      ]
     },
     "metadata": {},
     "execution_count": 47
    }
   ],
   "metadata": {
    "cell_id": "00086-a1bb5cf6-33fa-42f5-a7d7-bcce42a0dd03",
    "deepnote_cell_type": "code",
    "deepnote_to_be_reexecuted": false,
    "execution_millis": 16,
    "execution_start": 1627312444773,
    "source_hash": "615184f7",
    "tags": []
   }
  },
  {
   "cell_type": "markdown",
   "source": [
    "---\n",
    "<br><br>**Rating -**\n",
    "\n",
    "<br>Least rated laptop"
   ],
   "metadata": {
    "cell_id": "00089-1c9dcb7f-d607-43e9-ad76-196afc295ae0",
    "deepnote_cell_type": "markdown",
    "tags": []
   }
  },
  {
   "cell_type": "code",
   "execution_count": 48,
   "source": [
    "leastRated = MSI_clean.loc[MSI_clean.loc[:,'Ratings_5']==min(MSI_clean.loc[:,'Ratings_5'])]\r\n",
    "if len(leastRated)>1:\r\n",
    "    for r in leastRated.index:\r\n",
    "        print(r, leastRated.loc[r,\"URL\"])\r\n",
    "else:\r\n",
    "    print(*leastRated[\"URL\"].values)\r\n",
    "leastRated"
   ],
   "outputs": [
    {
     "output_type": "stream",
     "name": "stdout",
     "text": [
      "5 http://www.amazon.in/MSI-GF65-Thin-10SDR-i7-10750H/dp/B08THQZCVD/ref=sr_1_7?dchild=1&keywords=msi+laptop&qid=1627278334&sr=8-7\n",
      "6 http://www.amazon.in/MSI-i5-10500H-IPS-Level-Windows-10SCXR-655IN/dp/B093L9SYZP/ref=sr_1_8?dchild=1&keywords=msi+laptop&qid=1627278334&sr=8-8\n",
      "7 http://www.amazon.in/MSI-GF63-Thin-10SCXR-Gaming/dp/B097JXH538/ref=sr_1_9?dchild=1&keywords=msi+laptop&qid=1627278334&sr=8-9\n",
      "10 http://www.amazon.in/MSI-GF65-Thin-10SDR-Gaming/dp/B097JY1CDV/ref=sr_1_14?dchild=1&keywords=msi+laptop&qid=1627278334&sr=8-14\n",
      "12 http://www.amazon.in/MSI-GF63-Thin-10SCXR-Gaming/dp/B097JY48G3/ref=sr_1_16?dchild=1&keywords=msi+laptop&qid=1627278334&sr=8-16\n",
      "13 http://www.amazon.in/MSI-i7-10750H-Gaming-Windows-10SCSR-660IN/dp/B08MBN18V4/ref=sr_1_17?dchild=1&keywords=msi+laptop&qid=1627278334&sr=8-17\n",
      "14 http://www.amazon.in/MSI-Modern-14-A10RB-651IN-9S7-14B351-651/dp/B084S4DRB2/ref=sr_1_18?dchild=1&keywords=msi+laptop&qid=1627278334&sr=8-18\n",
      "15 http://www.amazon.in/MSI-WF75-i7-10750HH-Workstation-10TJ-479IN/dp/B08MXP2SJL/ref=sr_1_19?dchild=1&keywords=msi+laptop&qid=1627278336&sr=8-19\n",
      "16 http://www.amazon.in/MSI-Creator-17-Space-Grey-A10SFS-685IN/dp/B08RX6M1BZ/ref=sr_1_20?dchild=1&keywords=msi+laptop&qid=1627278336&sr=8-20\n",
      "19 http://www.amazon.in/MSI-Modern-15-A10RB-032IN-9S7-155111-032/dp/B097DRPV54/ref=sr_1_23?dchild=1&keywords=msi+laptop&qid=1627278336&sr=8-23\n",
      "21 http://www.amazon.in/Renewed-MSI-GT75-Titan-9SG-413IN/dp/B08XZ249KL/ref=sr_1_25?dchild=1&keywords=msi+laptop&qid=1627278336&sr=8-25\n",
      "22 http://www.amazon.in/MSI-Creator-15-Grey-Black-A10SDT-421IN/dp/B08SN1X4T9/ref=sr_1_26?dchild=1&keywords=msi+laptop&qid=1627278336&sr=8-26\n",
      "25 http://www.amazon.in/MSI-i7-10875H-Windows-Titanium-10SGS-295IN/dp/B08MBG781T/ref=sr_1_31?dchild=1&keywords=msi+laptop&qid=1627278336&sr=8-31\n",
      "27 http://www.amazon.in/MSI-WF65-i7-10750HH-Workstation-10TJ-1213IN/dp/B08MXPF1NR/ref=sr_1_33?dchild=1&keywords=msi+laptop&qid=1627278336&sr=8-33\n",
      "28 http://www.amazon.in/MSI-WF65-i7-10750HH-Workstation-10TH-1219IN/dp/B08MXNXKDC/ref=sr_1_35?dchild=1&keywords=msi+laptop&qid=1627278336&sr=8-35\n",
      "35 http://www.amazon.in/MSI-WF75-i7-10750HH-Workstation-10TI-480IN/dp/B08MXNV67Y/ref=sr_1_44?dchild=1&keywords=msi+laptop&qid=1627278338&sr=8-44\n"
     ]
    },
    {
     "output_type": "execute_result",
     "data": {
      "text/plain": [
       "                                                 Name  Price_Rs  Ratings_5  \\\n",
       "5   MSI GF65 Thin 10SDR, Intel i7-10750H, 15.6\" FH...   89990.0        0.0   \n",
       "6   MSI GF75 Thin, Intel i5-10500H, 17.3\" (43.9 cm...   65990.0        0.0   \n",
       "7   MSI GF63 Thin 10SCXR 15.6\" FHD Gaming Laptop -...   68990.0        0.0   \n",
       "10  MSI GF65 Thin 10SDR 15.6\" FHD Gaming Laptop - ...   95499.0        0.0   \n",
       "12  MSI GF63 Thin 10SCXR 15.6\" FHD Gaming Laptop -...   78990.0        0.0   \n",
       "13  MSI GF63 Thin, Intel 10th Gen. i7-10750H, 15.6...  100990.0        0.0   \n",
       "14  MSI Modern 14 A10RB-651IN Intel Core i7-10510U...   84500.0        0.0   \n",
       "15  MSI WF75, Intel 10th Gen. i7-10750HH, 17.3\" FH...  199990.0        0.0   \n",
       "16  MSI Creator 17, Intel i7-10875H, 17.3\" UHD HDR...  299990.0        0.0   \n",
       "19  (Renewed) MSI Modern 15 A10RB-032IN Intel Core...   69990.0        0.0   \n",
       "21  (Renewed) MSI Gaming Intel 9th Gen Core i7 17-...  264900.0        0.0   \n",
       "22  MSI Creator 15, Intel i7-10750H, 15.6\" FHD Fin...  176990.0        0.0   \n",
       "25  MSI GE66 Raider, Intel 10th Gen. i7-10875H, 15...  299999.0        0.0   \n",
       "27  MSI WF65, Intel 10th Gen. i7-10750HH, 15.6\" FH...  179990.0        0.0   \n",
       "28  MSI WF65, Intel 10th Gen. i7-10750HH, 15.6\" FH...  149990.0        0.0   \n",
       "35  MSI WF75, Intel 10th Gen. i7-10750HH, 17.3\" FH...  179990.0        0.0   \n",
       "\n",
       "    Review_Count                                                URL Processor  \n",
       "5            0.0  http://www.amazon.in/MSI-GF65-Thin-10SDR-i7-10...     Intel  \n",
       "6            0.0  http://www.amazon.in/MSI-i5-10500H-IPS-Level-W...     Intel  \n",
       "7            0.0  http://www.amazon.in/MSI-GF63-Thin-10SCXR-Gami...     Intel  \n",
       "10           0.0  http://www.amazon.in/MSI-GF65-Thin-10SDR-Gamin...     Intel  \n",
       "12           0.0  http://www.amazon.in/MSI-GF63-Thin-10SCXR-Gami...     Intel  \n",
       "13           0.0  http://www.amazon.in/MSI-i7-10750H-Gaming-Wind...     Intel  \n",
       "14           0.0  http://www.amazon.in/MSI-Modern-14-A10RB-651IN...     Intel  \n",
       "15           0.0  http://www.amazon.in/MSI-WF75-i7-10750HH-Works...     Intel  \n",
       "16           0.0  http://www.amazon.in/MSI-Creator-17-Space-Grey...     Intel  \n",
       "19           0.0  http://www.amazon.in/MSI-Modern-15-A10RB-032IN...     Intel  \n",
       "21           0.0  http://www.amazon.in/Renewed-MSI-GT75-Titan-9S...     Intel  \n",
       "22           0.0  http://www.amazon.in/MSI-Creator-15-Grey-Black...     Intel  \n",
       "25           0.0  http://www.amazon.in/MSI-i7-10875H-Windows-Tit...     Intel  \n",
       "27           0.0  http://www.amazon.in/MSI-WF65-i7-10750HH-Works...     Intel  \n",
       "28           0.0  http://www.amazon.in/MSI-WF65-i7-10750HH-Works...     Intel  \n",
       "35           0.0  http://www.amazon.in/MSI-WF75-i7-10750HH-Works...     Intel  "
      ],
      "text/html": [
       "<div>\n",
       "<style scoped>\n",
       "    .dataframe tbody tr th:only-of-type {\n",
       "        vertical-align: middle;\n",
       "    }\n",
       "\n",
       "    .dataframe tbody tr th {\n",
       "        vertical-align: top;\n",
       "    }\n",
       "\n",
       "    .dataframe thead th {\n",
       "        text-align: right;\n",
       "    }\n",
       "</style>\n",
       "<table border=\"1\" class=\"dataframe\">\n",
       "  <thead>\n",
       "    <tr style=\"text-align: right;\">\n",
       "      <th></th>\n",
       "      <th>Name</th>\n",
       "      <th>Price_Rs</th>\n",
       "      <th>Ratings_5</th>\n",
       "      <th>Review_Count</th>\n",
       "      <th>URL</th>\n",
       "      <th>Processor</th>\n",
       "    </tr>\n",
       "  </thead>\n",
       "  <tbody>\n",
       "    <tr>\n",
       "      <th>5</th>\n",
       "      <td>MSI GF65 Thin 10SDR, Intel i7-10750H, 15.6\" FH...</td>\n",
       "      <td>89990.0</td>\n",
       "      <td>0.0</td>\n",
       "      <td>0.0</td>\n",
       "      <td>http://www.amazon.in/MSI-GF65-Thin-10SDR-i7-10...</td>\n",
       "      <td>Intel</td>\n",
       "    </tr>\n",
       "    <tr>\n",
       "      <th>6</th>\n",
       "      <td>MSI GF75 Thin, Intel i5-10500H, 17.3\" (43.9 cm...</td>\n",
       "      <td>65990.0</td>\n",
       "      <td>0.0</td>\n",
       "      <td>0.0</td>\n",
       "      <td>http://www.amazon.in/MSI-i5-10500H-IPS-Level-W...</td>\n",
       "      <td>Intel</td>\n",
       "    </tr>\n",
       "    <tr>\n",
       "      <th>7</th>\n",
       "      <td>MSI GF63 Thin 10SCXR 15.6\" FHD Gaming Laptop -...</td>\n",
       "      <td>68990.0</td>\n",
       "      <td>0.0</td>\n",
       "      <td>0.0</td>\n",
       "      <td>http://www.amazon.in/MSI-GF63-Thin-10SCXR-Gami...</td>\n",
       "      <td>Intel</td>\n",
       "    </tr>\n",
       "    <tr>\n",
       "      <th>10</th>\n",
       "      <td>MSI GF65 Thin 10SDR 15.6\" FHD Gaming Laptop - ...</td>\n",
       "      <td>95499.0</td>\n",
       "      <td>0.0</td>\n",
       "      <td>0.0</td>\n",
       "      <td>http://www.amazon.in/MSI-GF65-Thin-10SDR-Gamin...</td>\n",
       "      <td>Intel</td>\n",
       "    </tr>\n",
       "    <tr>\n",
       "      <th>12</th>\n",
       "      <td>MSI GF63 Thin 10SCXR 15.6\" FHD Gaming Laptop -...</td>\n",
       "      <td>78990.0</td>\n",
       "      <td>0.0</td>\n",
       "      <td>0.0</td>\n",
       "      <td>http://www.amazon.in/MSI-GF63-Thin-10SCXR-Gami...</td>\n",
       "      <td>Intel</td>\n",
       "    </tr>\n",
       "    <tr>\n",
       "      <th>13</th>\n",
       "      <td>MSI GF63 Thin, Intel 10th Gen. i7-10750H, 15.6...</td>\n",
       "      <td>100990.0</td>\n",
       "      <td>0.0</td>\n",
       "      <td>0.0</td>\n",
       "      <td>http://www.amazon.in/MSI-i7-10750H-Gaming-Wind...</td>\n",
       "      <td>Intel</td>\n",
       "    </tr>\n",
       "    <tr>\n",
       "      <th>14</th>\n",
       "      <td>MSI Modern 14 A10RB-651IN Intel Core i7-10510U...</td>\n",
       "      <td>84500.0</td>\n",
       "      <td>0.0</td>\n",
       "      <td>0.0</td>\n",
       "      <td>http://www.amazon.in/MSI-Modern-14-A10RB-651IN...</td>\n",
       "      <td>Intel</td>\n",
       "    </tr>\n",
       "    <tr>\n",
       "      <th>15</th>\n",
       "      <td>MSI WF75, Intel 10th Gen. i7-10750HH, 17.3\" FH...</td>\n",
       "      <td>199990.0</td>\n",
       "      <td>0.0</td>\n",
       "      <td>0.0</td>\n",
       "      <td>http://www.amazon.in/MSI-WF75-i7-10750HH-Works...</td>\n",
       "      <td>Intel</td>\n",
       "    </tr>\n",
       "    <tr>\n",
       "      <th>16</th>\n",
       "      <td>MSI Creator 17, Intel i7-10875H, 17.3\" UHD HDR...</td>\n",
       "      <td>299990.0</td>\n",
       "      <td>0.0</td>\n",
       "      <td>0.0</td>\n",
       "      <td>http://www.amazon.in/MSI-Creator-17-Space-Grey...</td>\n",
       "      <td>Intel</td>\n",
       "    </tr>\n",
       "    <tr>\n",
       "      <th>19</th>\n",
       "      <td>(Renewed) MSI Modern 15 A10RB-032IN Intel Core...</td>\n",
       "      <td>69990.0</td>\n",
       "      <td>0.0</td>\n",
       "      <td>0.0</td>\n",
       "      <td>http://www.amazon.in/MSI-Modern-15-A10RB-032IN...</td>\n",
       "      <td>Intel</td>\n",
       "    </tr>\n",
       "    <tr>\n",
       "      <th>21</th>\n",
       "      <td>(Renewed) MSI Gaming Intel 9th Gen Core i7 17-...</td>\n",
       "      <td>264900.0</td>\n",
       "      <td>0.0</td>\n",
       "      <td>0.0</td>\n",
       "      <td>http://www.amazon.in/Renewed-MSI-GT75-Titan-9S...</td>\n",
       "      <td>Intel</td>\n",
       "    </tr>\n",
       "    <tr>\n",
       "      <th>22</th>\n",
       "      <td>MSI Creator 15, Intel i7-10750H, 15.6\" FHD Fin...</td>\n",
       "      <td>176990.0</td>\n",
       "      <td>0.0</td>\n",
       "      <td>0.0</td>\n",
       "      <td>http://www.amazon.in/MSI-Creator-15-Grey-Black...</td>\n",
       "      <td>Intel</td>\n",
       "    </tr>\n",
       "    <tr>\n",
       "      <th>25</th>\n",
       "      <td>MSI GE66 Raider, Intel 10th Gen. i7-10875H, 15...</td>\n",
       "      <td>299999.0</td>\n",
       "      <td>0.0</td>\n",
       "      <td>0.0</td>\n",
       "      <td>http://www.amazon.in/MSI-i7-10875H-Windows-Tit...</td>\n",
       "      <td>Intel</td>\n",
       "    </tr>\n",
       "    <tr>\n",
       "      <th>27</th>\n",
       "      <td>MSI WF65, Intel 10th Gen. i7-10750HH, 15.6\" FH...</td>\n",
       "      <td>179990.0</td>\n",
       "      <td>0.0</td>\n",
       "      <td>0.0</td>\n",
       "      <td>http://www.amazon.in/MSI-WF65-i7-10750HH-Works...</td>\n",
       "      <td>Intel</td>\n",
       "    </tr>\n",
       "    <tr>\n",
       "      <th>28</th>\n",
       "      <td>MSI WF65, Intel 10th Gen. i7-10750HH, 15.6\" FH...</td>\n",
       "      <td>149990.0</td>\n",
       "      <td>0.0</td>\n",
       "      <td>0.0</td>\n",
       "      <td>http://www.amazon.in/MSI-WF65-i7-10750HH-Works...</td>\n",
       "      <td>Intel</td>\n",
       "    </tr>\n",
       "    <tr>\n",
       "      <th>35</th>\n",
       "      <td>MSI WF75, Intel 10th Gen. i7-10750HH, 17.3\" FH...</td>\n",
       "      <td>179990.0</td>\n",
       "      <td>0.0</td>\n",
       "      <td>0.0</td>\n",
       "      <td>http://www.amazon.in/MSI-WF75-i7-10750HH-Works...</td>\n",
       "      <td>Intel</td>\n",
       "    </tr>\n",
       "  </tbody>\n",
       "</table>\n",
       "</div>"
      ]
     },
     "metadata": {},
     "execution_count": 48
    }
   ],
   "metadata": {
    "cell_id": "00087-d35e4718-6991-4535-8cbc-7795fb7a2e8f",
    "deepnote_cell_type": "code",
    "deepnote_to_be_reexecuted": false,
    "execution_millis": 44,
    "execution_start": 1627312446451,
    "source_hash": "90c5dfe1",
    "tags": []
   }
  },
  {
   "cell_type": "markdown",
   "source": [
    "Highest rated laptop:"
   ],
   "metadata": {
    "cell_id": "00095-fd61507a-bad9-4370-93d4-01bf2f6c39fe",
    "deepnote_cell_type": "markdown",
    "tags": []
   }
  },
  {
   "cell_type": "code",
   "execution_count": 49,
   "source": [
    "highestRated = MSI_clean.loc[MSI_clean.loc[:,'Ratings_5']==max(MSI_clean.loc[:,'Ratings_5'])]\r\n",
    "if len(highestRated)>1:\r\n",
    "    for r in highestRated.index:\r\n",
    "        print(r, highestRated.loc[r,\"URL\"])\r\n",
    "else:\r\n",
    "    print(*highestRated[\"URL\"].values)\r\n",
    "highestRated"
   ],
   "outputs": [
    {
     "output_type": "stream",
     "name": "stdout",
     "text": [
      "http://www.amazon.in/MSI-i7-10875H-Windows-Titanium-10SFS-443IN/dp/B08MBK4D4H/ref=sr_1_15?dchild=1&keywords=msi+laptop&qid=1627278334&sr=8-15\n"
     ]
    },
    {
     "output_type": "execute_result",
     "data": {
      "text/plain": [
       "                                                 Name  Price_Rs  Ratings_5  \\\n",
       "11  MSI GE66 Raider, Intel 10th Gen. i7-10875H, 15...  249990.0        5.0   \n",
       "\n",
       "    Review_Count                                                URL Processor  \n",
       "11           3.0  http://www.amazon.in/MSI-i7-10875H-Windows-Tit...     Intel  "
      ],
      "text/html": [
       "<div>\n",
       "<style scoped>\n",
       "    .dataframe tbody tr th:only-of-type {\n",
       "        vertical-align: middle;\n",
       "    }\n",
       "\n",
       "    .dataframe tbody tr th {\n",
       "        vertical-align: top;\n",
       "    }\n",
       "\n",
       "    .dataframe thead th {\n",
       "        text-align: right;\n",
       "    }\n",
       "</style>\n",
       "<table border=\"1\" class=\"dataframe\">\n",
       "  <thead>\n",
       "    <tr style=\"text-align: right;\">\n",
       "      <th></th>\n",
       "      <th>Name</th>\n",
       "      <th>Price_Rs</th>\n",
       "      <th>Ratings_5</th>\n",
       "      <th>Review_Count</th>\n",
       "      <th>URL</th>\n",
       "      <th>Processor</th>\n",
       "    </tr>\n",
       "  </thead>\n",
       "  <tbody>\n",
       "    <tr>\n",
       "      <th>11</th>\n",
       "      <td>MSI GE66 Raider, Intel 10th Gen. i7-10875H, 15...</td>\n",
       "      <td>249990.0</td>\n",
       "      <td>5.0</td>\n",
       "      <td>3.0</td>\n",
       "      <td>http://www.amazon.in/MSI-i7-10875H-Windows-Tit...</td>\n",
       "      <td>Intel</td>\n",
       "    </tr>\n",
       "  </tbody>\n",
       "</table>\n",
       "</div>"
      ]
     },
     "metadata": {},
     "execution_count": 49
    }
   ],
   "metadata": {
    "cell_id": "00091-45842ef2-6903-46dd-aa8f-509d7237d82c",
    "deepnote_cell_type": "code",
    "deepnote_to_be_reexecuted": false,
    "execution_millis": 53,
    "execution_start": 1627312448536,
    "source_hash": "25105de8",
    "tags": []
   }
  },
  {
   "cell_type": "markdown",
   "source": [
    "---\n",
    "<br><br>**Reviews -**\n",
    "\n",
    "<br>Most reviewed laptop:"
   ],
   "metadata": {
    "cell_id": "00095-a04808fb-e3dd-4254-b767-d37b389b3557",
    "deepnote_cell_type": "markdown",
    "tags": []
   }
  },
  {
   "cell_type": "code",
   "execution_count": 50,
   "source": [
    "mostReviewed = MSI_clean.loc[MSI_clean.loc[:,'Review_Count']==max(MSI_clean.loc[:,'Review_Count'])]\r\n",
    "if len(mostReviewed)>1:\r\n",
    "    for r in mostReviewed.index:\r\n",
    "        print(r, mostReviewed.loc[r,\"URL\"])\r\n",
    "else:\r\n",
    "    print(*mostReviewed[\"URL\"].values)\r\n",
    "mostReviewed"
   ],
   "outputs": [
    {
     "output_type": "stream",
     "name": "stdout",
     "text": [
      "http://www.amazon.in/gp/slredirect/picassoRedirect.html/ref=pa_sp_atf_aps_sr_pg1_1?ie=UTF8&adId=A07601222ZLUTAQ1PYU0N&url=%2FMSI-Gaming-Windows-RX5500M-A4DDR-212IN%2Fdp%2FB08GYH6HKN%2Fref%3Dsr_1_1_sspa%3Fdchild%3D1%26keywords%3Dmsi%2Blaptop%26qid%3D1627278334%26sr%3D8-1-spons%26psc%3D1&qualifier=1627278334&id=6346026282846977&widgetName=sp_atf\n"
     ]
    },
    {
     "output_type": "execute_result",
     "data": {
      "text/plain": [
       "                                                Name  Price_Rs  Ratings_5  \\\n",
       "0  MSI Bravo 15 Ryzen 7 4800H 15.6\" (39.62cms) FH...   75990.0        4.2   \n",
       "\n",
       "   Review_Count                                                URL Processor  \n",
       "0          53.0  http://www.amazon.in/gp/slredirect/picassoRedi...       AMD  "
      ],
      "text/html": [
       "<div>\n",
       "<style scoped>\n",
       "    .dataframe tbody tr th:only-of-type {\n",
       "        vertical-align: middle;\n",
       "    }\n",
       "\n",
       "    .dataframe tbody tr th {\n",
       "        vertical-align: top;\n",
       "    }\n",
       "\n",
       "    .dataframe thead th {\n",
       "        text-align: right;\n",
       "    }\n",
       "</style>\n",
       "<table border=\"1\" class=\"dataframe\">\n",
       "  <thead>\n",
       "    <tr style=\"text-align: right;\">\n",
       "      <th></th>\n",
       "      <th>Name</th>\n",
       "      <th>Price_Rs</th>\n",
       "      <th>Ratings_5</th>\n",
       "      <th>Review_Count</th>\n",
       "      <th>URL</th>\n",
       "      <th>Processor</th>\n",
       "    </tr>\n",
       "  </thead>\n",
       "  <tbody>\n",
       "    <tr>\n",
       "      <th>0</th>\n",
       "      <td>MSI Bravo 15 Ryzen 7 4800H 15.6\" (39.62cms) FH...</td>\n",
       "      <td>75990.0</td>\n",
       "      <td>4.2</td>\n",
       "      <td>53.0</td>\n",
       "      <td>http://www.amazon.in/gp/slredirect/picassoRedi...</td>\n",
       "      <td>AMD</td>\n",
       "    </tr>\n",
       "  </tbody>\n",
       "</table>\n",
       "</div>"
      ]
     },
     "metadata": {},
     "execution_count": 50
    }
   ],
   "metadata": {
    "cell_id": "00095-e37b55ea-9d38-4097-a0a2-7689b01d4d76",
    "deepnote_cell_type": "code",
    "deepnote_to_be_reexecuted": false,
    "execution_millis": 29,
    "execution_start": 1627312450917,
    "source_hash": "72279a93",
    "tags": []
   }
  },
  {
   "cell_type": "markdown",
   "source": [
    "Least reviewed laptop:"
   ],
   "metadata": {
    "cell_id": "00098-767b1d8a-b876-4069-a6be-24aa6fec149b",
    "deepnote_cell_type": "markdown",
    "tags": []
   }
  },
  {
   "cell_type": "code",
   "execution_count": 51,
   "source": [
    "leastReviewed = MSI_clean.loc[MSI_clean.loc[:,'Review_Count']==min(MSI_clean.loc[:,'Review_Count'])]\r\n",
    "if len(leastReviewed)>1:\r\n",
    "    for r in leastReviewed.index:\r\n",
    "        print(r, leastReviewed.loc[r,\"URL\"])\r\n",
    "else:\r\n",
    "    print(*leastReviewed[\"URL\"].values)\r\n",
    "leastReviewed"
   ],
   "outputs": [
    {
     "output_type": "stream",
     "name": "stdout",
     "text": [
      "5 http://www.amazon.in/MSI-GF65-Thin-10SDR-i7-10750H/dp/B08THQZCVD/ref=sr_1_7?dchild=1&keywords=msi+laptop&qid=1627278334&sr=8-7\n",
      "6 http://www.amazon.in/MSI-i5-10500H-IPS-Level-Windows-10SCXR-655IN/dp/B093L9SYZP/ref=sr_1_8?dchild=1&keywords=msi+laptop&qid=1627278334&sr=8-8\n",
      "7 http://www.amazon.in/MSI-GF63-Thin-10SCXR-Gaming/dp/B097JXH538/ref=sr_1_9?dchild=1&keywords=msi+laptop&qid=1627278334&sr=8-9\n",
      "10 http://www.amazon.in/MSI-GF65-Thin-10SDR-Gaming/dp/B097JY1CDV/ref=sr_1_14?dchild=1&keywords=msi+laptop&qid=1627278334&sr=8-14\n",
      "12 http://www.amazon.in/MSI-GF63-Thin-10SCXR-Gaming/dp/B097JY48G3/ref=sr_1_16?dchild=1&keywords=msi+laptop&qid=1627278334&sr=8-16\n",
      "13 http://www.amazon.in/MSI-i7-10750H-Gaming-Windows-10SCSR-660IN/dp/B08MBN18V4/ref=sr_1_17?dchild=1&keywords=msi+laptop&qid=1627278334&sr=8-17\n",
      "14 http://www.amazon.in/MSI-Modern-14-A10RB-651IN-9S7-14B351-651/dp/B084S4DRB2/ref=sr_1_18?dchild=1&keywords=msi+laptop&qid=1627278334&sr=8-18\n",
      "15 http://www.amazon.in/MSI-WF75-i7-10750HH-Workstation-10TJ-479IN/dp/B08MXP2SJL/ref=sr_1_19?dchild=1&keywords=msi+laptop&qid=1627278336&sr=8-19\n",
      "16 http://www.amazon.in/MSI-Creator-17-Space-Grey-A10SFS-685IN/dp/B08RX6M1BZ/ref=sr_1_20?dchild=1&keywords=msi+laptop&qid=1627278336&sr=8-20\n",
      "19 http://www.amazon.in/MSI-Modern-15-A10RB-032IN-9S7-155111-032/dp/B097DRPV54/ref=sr_1_23?dchild=1&keywords=msi+laptop&qid=1627278336&sr=8-23\n",
      "21 http://www.amazon.in/Renewed-MSI-GT75-Titan-9SG-413IN/dp/B08XZ249KL/ref=sr_1_25?dchild=1&keywords=msi+laptop&qid=1627278336&sr=8-25\n",
      "22 http://www.amazon.in/MSI-Creator-15-Grey-Black-A10SDT-421IN/dp/B08SN1X4T9/ref=sr_1_26?dchild=1&keywords=msi+laptop&qid=1627278336&sr=8-26\n",
      "25 http://www.amazon.in/MSI-i7-10875H-Windows-Titanium-10SGS-295IN/dp/B08MBG781T/ref=sr_1_31?dchild=1&keywords=msi+laptop&qid=1627278336&sr=8-31\n",
      "27 http://www.amazon.in/MSI-WF65-i7-10750HH-Workstation-10TJ-1213IN/dp/B08MXPF1NR/ref=sr_1_33?dchild=1&keywords=msi+laptop&qid=1627278336&sr=8-33\n",
      "28 http://www.amazon.in/MSI-WF65-i7-10750HH-Workstation-10TH-1219IN/dp/B08MXNXKDC/ref=sr_1_35?dchild=1&keywords=msi+laptop&qid=1627278336&sr=8-35\n",
      "35 http://www.amazon.in/MSI-WF75-i7-10750HH-Workstation-10TI-480IN/dp/B08MXNV67Y/ref=sr_1_44?dchild=1&keywords=msi+laptop&qid=1627278338&sr=8-44\n"
     ]
    },
    {
     "output_type": "execute_result",
     "data": {
      "text/plain": [
       "                                                 Name  Price_Rs  Ratings_5  \\\n",
       "5   MSI GF65 Thin 10SDR, Intel i7-10750H, 15.6\" FH...   89990.0        0.0   \n",
       "6   MSI GF75 Thin, Intel i5-10500H, 17.3\" (43.9 cm...   65990.0        0.0   \n",
       "7   MSI GF63 Thin 10SCXR 15.6\" FHD Gaming Laptop -...   68990.0        0.0   \n",
       "10  MSI GF65 Thin 10SDR 15.6\" FHD Gaming Laptop - ...   95499.0        0.0   \n",
       "12  MSI GF63 Thin 10SCXR 15.6\" FHD Gaming Laptop -...   78990.0        0.0   \n",
       "13  MSI GF63 Thin, Intel 10th Gen. i7-10750H, 15.6...  100990.0        0.0   \n",
       "14  MSI Modern 14 A10RB-651IN Intel Core i7-10510U...   84500.0        0.0   \n",
       "15  MSI WF75, Intel 10th Gen. i7-10750HH, 17.3\" FH...  199990.0        0.0   \n",
       "16  MSI Creator 17, Intel i7-10875H, 17.3\" UHD HDR...  299990.0        0.0   \n",
       "19  (Renewed) MSI Modern 15 A10RB-032IN Intel Core...   69990.0        0.0   \n",
       "21  (Renewed) MSI Gaming Intel 9th Gen Core i7 17-...  264900.0        0.0   \n",
       "22  MSI Creator 15, Intel i7-10750H, 15.6\" FHD Fin...  176990.0        0.0   \n",
       "25  MSI GE66 Raider, Intel 10th Gen. i7-10875H, 15...  299999.0        0.0   \n",
       "27  MSI WF65, Intel 10th Gen. i7-10750HH, 15.6\" FH...  179990.0        0.0   \n",
       "28  MSI WF65, Intel 10th Gen. i7-10750HH, 15.6\" FH...  149990.0        0.0   \n",
       "35  MSI WF75, Intel 10th Gen. i7-10750HH, 17.3\" FH...  179990.0        0.0   \n",
       "\n",
       "    Review_Count                                                URL Processor  \n",
       "5            0.0  http://www.amazon.in/MSI-GF65-Thin-10SDR-i7-10...     Intel  \n",
       "6            0.0  http://www.amazon.in/MSI-i5-10500H-IPS-Level-W...     Intel  \n",
       "7            0.0  http://www.amazon.in/MSI-GF63-Thin-10SCXR-Gami...     Intel  \n",
       "10           0.0  http://www.amazon.in/MSI-GF65-Thin-10SDR-Gamin...     Intel  \n",
       "12           0.0  http://www.amazon.in/MSI-GF63-Thin-10SCXR-Gami...     Intel  \n",
       "13           0.0  http://www.amazon.in/MSI-i7-10750H-Gaming-Wind...     Intel  \n",
       "14           0.0  http://www.amazon.in/MSI-Modern-14-A10RB-651IN...     Intel  \n",
       "15           0.0  http://www.amazon.in/MSI-WF75-i7-10750HH-Works...     Intel  \n",
       "16           0.0  http://www.amazon.in/MSI-Creator-17-Space-Grey...     Intel  \n",
       "19           0.0  http://www.amazon.in/MSI-Modern-15-A10RB-032IN...     Intel  \n",
       "21           0.0  http://www.amazon.in/Renewed-MSI-GT75-Titan-9S...     Intel  \n",
       "22           0.0  http://www.amazon.in/MSI-Creator-15-Grey-Black...     Intel  \n",
       "25           0.0  http://www.amazon.in/MSI-i7-10875H-Windows-Tit...     Intel  \n",
       "27           0.0  http://www.amazon.in/MSI-WF65-i7-10750HH-Works...     Intel  \n",
       "28           0.0  http://www.amazon.in/MSI-WF65-i7-10750HH-Works...     Intel  \n",
       "35           0.0  http://www.amazon.in/MSI-WF75-i7-10750HH-Works...     Intel  "
      ],
      "text/html": [
       "<div>\n",
       "<style scoped>\n",
       "    .dataframe tbody tr th:only-of-type {\n",
       "        vertical-align: middle;\n",
       "    }\n",
       "\n",
       "    .dataframe tbody tr th {\n",
       "        vertical-align: top;\n",
       "    }\n",
       "\n",
       "    .dataframe thead th {\n",
       "        text-align: right;\n",
       "    }\n",
       "</style>\n",
       "<table border=\"1\" class=\"dataframe\">\n",
       "  <thead>\n",
       "    <tr style=\"text-align: right;\">\n",
       "      <th></th>\n",
       "      <th>Name</th>\n",
       "      <th>Price_Rs</th>\n",
       "      <th>Ratings_5</th>\n",
       "      <th>Review_Count</th>\n",
       "      <th>URL</th>\n",
       "      <th>Processor</th>\n",
       "    </tr>\n",
       "  </thead>\n",
       "  <tbody>\n",
       "    <tr>\n",
       "      <th>5</th>\n",
       "      <td>MSI GF65 Thin 10SDR, Intel i7-10750H, 15.6\" FH...</td>\n",
       "      <td>89990.0</td>\n",
       "      <td>0.0</td>\n",
       "      <td>0.0</td>\n",
       "      <td>http://www.amazon.in/MSI-GF65-Thin-10SDR-i7-10...</td>\n",
       "      <td>Intel</td>\n",
       "    </tr>\n",
       "    <tr>\n",
       "      <th>6</th>\n",
       "      <td>MSI GF75 Thin, Intel i5-10500H, 17.3\" (43.9 cm...</td>\n",
       "      <td>65990.0</td>\n",
       "      <td>0.0</td>\n",
       "      <td>0.0</td>\n",
       "      <td>http://www.amazon.in/MSI-i5-10500H-IPS-Level-W...</td>\n",
       "      <td>Intel</td>\n",
       "    </tr>\n",
       "    <tr>\n",
       "      <th>7</th>\n",
       "      <td>MSI GF63 Thin 10SCXR 15.6\" FHD Gaming Laptop -...</td>\n",
       "      <td>68990.0</td>\n",
       "      <td>0.0</td>\n",
       "      <td>0.0</td>\n",
       "      <td>http://www.amazon.in/MSI-GF63-Thin-10SCXR-Gami...</td>\n",
       "      <td>Intel</td>\n",
       "    </tr>\n",
       "    <tr>\n",
       "      <th>10</th>\n",
       "      <td>MSI GF65 Thin 10SDR 15.6\" FHD Gaming Laptop - ...</td>\n",
       "      <td>95499.0</td>\n",
       "      <td>0.0</td>\n",
       "      <td>0.0</td>\n",
       "      <td>http://www.amazon.in/MSI-GF65-Thin-10SDR-Gamin...</td>\n",
       "      <td>Intel</td>\n",
       "    </tr>\n",
       "    <tr>\n",
       "      <th>12</th>\n",
       "      <td>MSI GF63 Thin 10SCXR 15.6\" FHD Gaming Laptop -...</td>\n",
       "      <td>78990.0</td>\n",
       "      <td>0.0</td>\n",
       "      <td>0.0</td>\n",
       "      <td>http://www.amazon.in/MSI-GF63-Thin-10SCXR-Gami...</td>\n",
       "      <td>Intel</td>\n",
       "    </tr>\n",
       "    <tr>\n",
       "      <th>13</th>\n",
       "      <td>MSI GF63 Thin, Intel 10th Gen. i7-10750H, 15.6...</td>\n",
       "      <td>100990.0</td>\n",
       "      <td>0.0</td>\n",
       "      <td>0.0</td>\n",
       "      <td>http://www.amazon.in/MSI-i7-10750H-Gaming-Wind...</td>\n",
       "      <td>Intel</td>\n",
       "    </tr>\n",
       "    <tr>\n",
       "      <th>14</th>\n",
       "      <td>MSI Modern 14 A10RB-651IN Intel Core i7-10510U...</td>\n",
       "      <td>84500.0</td>\n",
       "      <td>0.0</td>\n",
       "      <td>0.0</td>\n",
       "      <td>http://www.amazon.in/MSI-Modern-14-A10RB-651IN...</td>\n",
       "      <td>Intel</td>\n",
       "    </tr>\n",
       "    <tr>\n",
       "      <th>15</th>\n",
       "      <td>MSI WF75, Intel 10th Gen. i7-10750HH, 17.3\" FH...</td>\n",
       "      <td>199990.0</td>\n",
       "      <td>0.0</td>\n",
       "      <td>0.0</td>\n",
       "      <td>http://www.amazon.in/MSI-WF75-i7-10750HH-Works...</td>\n",
       "      <td>Intel</td>\n",
       "    </tr>\n",
       "    <tr>\n",
       "      <th>16</th>\n",
       "      <td>MSI Creator 17, Intel i7-10875H, 17.3\" UHD HDR...</td>\n",
       "      <td>299990.0</td>\n",
       "      <td>0.0</td>\n",
       "      <td>0.0</td>\n",
       "      <td>http://www.amazon.in/MSI-Creator-17-Space-Grey...</td>\n",
       "      <td>Intel</td>\n",
       "    </tr>\n",
       "    <tr>\n",
       "      <th>19</th>\n",
       "      <td>(Renewed) MSI Modern 15 A10RB-032IN Intel Core...</td>\n",
       "      <td>69990.0</td>\n",
       "      <td>0.0</td>\n",
       "      <td>0.0</td>\n",
       "      <td>http://www.amazon.in/MSI-Modern-15-A10RB-032IN...</td>\n",
       "      <td>Intel</td>\n",
       "    </tr>\n",
       "    <tr>\n",
       "      <th>21</th>\n",
       "      <td>(Renewed) MSI Gaming Intel 9th Gen Core i7 17-...</td>\n",
       "      <td>264900.0</td>\n",
       "      <td>0.0</td>\n",
       "      <td>0.0</td>\n",
       "      <td>http://www.amazon.in/Renewed-MSI-GT75-Titan-9S...</td>\n",
       "      <td>Intel</td>\n",
       "    </tr>\n",
       "    <tr>\n",
       "      <th>22</th>\n",
       "      <td>MSI Creator 15, Intel i7-10750H, 15.6\" FHD Fin...</td>\n",
       "      <td>176990.0</td>\n",
       "      <td>0.0</td>\n",
       "      <td>0.0</td>\n",
       "      <td>http://www.amazon.in/MSI-Creator-15-Grey-Black...</td>\n",
       "      <td>Intel</td>\n",
       "    </tr>\n",
       "    <tr>\n",
       "      <th>25</th>\n",
       "      <td>MSI GE66 Raider, Intel 10th Gen. i7-10875H, 15...</td>\n",
       "      <td>299999.0</td>\n",
       "      <td>0.0</td>\n",
       "      <td>0.0</td>\n",
       "      <td>http://www.amazon.in/MSI-i7-10875H-Windows-Tit...</td>\n",
       "      <td>Intel</td>\n",
       "    </tr>\n",
       "    <tr>\n",
       "      <th>27</th>\n",
       "      <td>MSI WF65, Intel 10th Gen. i7-10750HH, 15.6\" FH...</td>\n",
       "      <td>179990.0</td>\n",
       "      <td>0.0</td>\n",
       "      <td>0.0</td>\n",
       "      <td>http://www.amazon.in/MSI-WF65-i7-10750HH-Works...</td>\n",
       "      <td>Intel</td>\n",
       "    </tr>\n",
       "    <tr>\n",
       "      <th>28</th>\n",
       "      <td>MSI WF65, Intel 10th Gen. i7-10750HH, 15.6\" FH...</td>\n",
       "      <td>149990.0</td>\n",
       "      <td>0.0</td>\n",
       "      <td>0.0</td>\n",
       "      <td>http://www.amazon.in/MSI-WF65-i7-10750HH-Works...</td>\n",
       "      <td>Intel</td>\n",
       "    </tr>\n",
       "    <tr>\n",
       "      <th>35</th>\n",
       "      <td>MSI WF75, Intel 10th Gen. i7-10750HH, 17.3\" FH...</td>\n",
       "      <td>179990.0</td>\n",
       "      <td>0.0</td>\n",
       "      <td>0.0</td>\n",
       "      <td>http://www.amazon.in/MSI-WF75-i7-10750HH-Works...</td>\n",
       "      <td>Intel</td>\n",
       "    </tr>\n",
       "  </tbody>\n",
       "</table>\n",
       "</div>"
      ]
     },
     "metadata": {},
     "execution_count": 51
    }
   ],
   "metadata": {
    "cell_id": "00096-727b1860-d50b-458b-bab5-7e10d78c1ccb",
    "deepnote_cell_type": "code",
    "deepnote_to_be_reexecuted": false,
    "execution_millis": 37,
    "execution_start": 1627312452571,
    "source_hash": "1d1327e5",
    "tags": []
   }
  },
  {
   "cell_type": "markdown",
   "source": [
    "---"
   ],
   "metadata": {
    "cell_id": "00102-d4532284-8b23-43b5-8758-d6bcbb91722c",
    "deepnote_cell_type": "markdown",
    "tags": []
   }
  },
  {
   "cell_type": "markdown",
   "source": [
    "## Conclusion\n",
    "\n",
    "Using the code we can extract a .csv file with fields Name, Price, Rating, Review count and URL of any product from Amazon India.\n",
    "\n",
    "<br>\n",
    "We can use this .csv file to create a DataFrame and visualize it or print out some specific data as per our need. For some products additional modification in the code may be needed to get the desired data as we have done for MSI Laptops. Based on the graphs and different tables printed in project one can come to a probable decision about any product. \n",
    "\n",
    "<br>\n",
    "For this project we can conclude that most of the MSI laptops are in medium to high price range and most of them use Intel processor. Almost 50% i.e., 16 laptops have no ratings or reviews. The cheapest and most expensive price of a laptop is Rs.53,990 (rating = 3.3 stars, reviews = 7) and Rs.2,99,999 (rating = 0, reviews = 0) respectively. \n",
    "\n",
    "<br>\n",
    "The most reviewed and preferrable model is MSI Bravo 15 Ryzen 7 4800H. It has price = Rs.75,990, rating = 4.2 stars and reviews = 53"
   ],
   "metadata": {
    "cell_id": "00104-92960908-9952-43e4-91b1-fd2f85ab86d1",
    "deepnote_cell_type": "markdown",
    "tags": []
   }
  }
 ],
 "metadata": {
  "deepnote": {},
  "deepnote_execution_queue": [],
  "deepnote_notebook_id": "abc24651-dc83-4987-9014-d679ffe2a6f3",
  "kernelspec": {
   "display_name": "Python 3",
   "language": "python",
   "name": "python3"
  },
  "language_info": {
   "codemirror_mode": {
    "name": "ipython",
    "version": 3
   },
   "file_extension": ".py",
   "mimetype": "text/x-python",
   "name": "python",
   "nbconvert_exporter": "python",
   "pygments_lexer": "ipython3",
   "version": "3.8.5"
  }
 },
 "nbformat": 4,
 "nbformat_minor": 4
}